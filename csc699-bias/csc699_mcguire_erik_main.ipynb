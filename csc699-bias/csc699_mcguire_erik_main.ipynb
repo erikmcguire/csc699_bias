{
  "nbformat": 4,
  "nbformat_minor": 0,
  "metadata": {
    "colab": {
      "name": "Copy of csc699-mcguire_erik-main.ipynb",
      "provenance": [],
      "collapsed_sections": [
        "uo-2Hm3zpAct",
        "w38CYpLoT938",
        "jC1_ElBcPUVP",
        "QAm67bTiPRyp",
        "sXTQmNVWPksA",
        "IjkNjJwbSmiJ",
        "MG4-XxVlPETn",
        "_SqN22ZFTaOl",
        "5Du4EoHaTcoc",
        "o3If63ByTf70",
        "z8aSWTHcGo2M",
        "UkFg-zLSeBNX",
        "YbEN5hgR4aBa",
        "HJnW29KB_f_Z",
        "IrFpQXol4dMa",
        "-XFyEoEX4fOz",
        "Rgezc-kMf-Hb",
        "n6162nMo0Da2",
        "3yk0pJOSxvaA",
        "Om47NA-KwrAw",
        "eGv6m-BjP8yI",
        "E0NL9-hn6rGA",
        "VW7jqSOuPwJm",
        "UU6tMTNb6nCR",
        "2_hKnGJnLDE8",
        "kBI4WPqEK5sC",
        "eQ7IPcBN5lzY",
        "bkIp8szexGD6",
        "_gjxC7qvd2tK",
        "Q0oOPisIOAdp",
        "6FfEKbt8NxID",
        "MZ93E5eLGUyZ"
      ],
      "toc_visible": true,
      "machine_shape": "hm"
    },
    "kernelspec": {
      "name": "python3",
      "display_name": "Python 3"
    },
    "accelerator": "GPU"
  },
  "cells": [
    {
      "cell_type": "markdown",
      "metadata": {
        "id": "uo-2Hm3zpAct",
        "colab_type": "text"
      },
      "source": [
        "# I. Templates"
      ]
    },
    {
      "cell_type": "markdown",
      "metadata": {
        "id": "6nudQVgCNx_b",
        "colab_type": "text"
      },
      "source": [
        "Create *prefix templates* to condition generation for language models, based on bias context, demographic combinations. Generate samples with GPT-2, [LM1B](https://github.com/tensorflow/models/tree/master/research/lm_1b)."
      ]
    },
    {
      "cell_type": "markdown",
      "metadata": {
        "id": "w38CYpLoT938",
        "colab_type": "text"
      },
      "source": [
        "## Generation (GPT-2)"
      ]
    },
    {
      "cell_type": "markdown",
      "metadata": {
        "id": "jC1_ElBcPUVP",
        "colab_type": "text"
      },
      "source": [
        "### Setup"
      ]
    },
    {
      "cell_type": "code",
      "metadata": {
        "id": "06GXNkIctTWK",
        "colab_type": "code",
        "colab": {}
      },
      "source": [
        "\"\"\"\n",
        "from google.colab import drive\n",
        "drive.mount('/content/drive')\n",
        "\"\"\""
      ],
      "execution_count": null,
      "outputs": []
    },
    {
      "cell_type": "code",
      "metadata": {
        "id": "bsIM9dowaniy",
        "colab_type": "code",
        "colab": {}
      },
      "source": [
        "from IPython.display import clear_output"
      ],
      "execution_count": null,
      "outputs": []
    },
    {
      "cell_type": "code",
      "metadata": {
        "id": "6xOEEXfAZI0J",
        "colab_type": "code",
        "colab": {}
      },
      "source": [
        "!pip install transformers==2.5.1\n",
        "clear_output()"
      ],
      "execution_count": null,
      "outputs": []
    },
    {
      "cell_type": "code",
      "metadata": {
        "id": "iOUtAESOZaJH",
        "colab_type": "code",
        "colab": {}
      },
      "source": [
        "%tensorflow_version 2.x"
      ],
      "execution_count": null,
      "outputs": []
    },
    {
      "cell_type": "code",
      "metadata": {
        "id": "SkiKpKhpZqXG",
        "colab_type": "code",
        "colab": {}
      },
      "source": [
        "import numpy as np\n",
        "import pandas as pd\n",
        "import torch\n",
        "import copy"
      ],
      "execution_count": null,
      "outputs": []
    },
    {
      "cell_type": "code",
      "metadata": {
        "id": "NSArEub8aAtN",
        "colab_type": "code",
        "colab": {}
      },
      "source": [
        "from transformers import AutoTokenizer, AutoModelWithLMHead"
      ],
      "execution_count": null,
      "outputs": []
    },
    {
      "cell_type": "markdown",
      "metadata": {
        "id": "QAm67bTiPRyp",
        "colab_type": "text"
      },
      "source": [
        "### Definitions"
      ]
    },
    {
      "cell_type": "code",
      "metadata": {
        "id": "nRPF8LAwQCnP",
        "colab_type": "code",
        "colab": {}
      },
      "source": [
        "tokenizer = AutoTokenizer.from_pretrained('drive/My Drive/csc594-ADL/models/gpt2')\n",
        "model = AutoModelWithLMHead.from_pretrained('drive/My Drive/csc594-ADL/models/gpt2')"
      ],
      "execution_count": null,
      "outputs": []
    },
    {
      "cell_type": "code",
      "metadata": {
        "id": "Gq5K5r3AIMOi",
        "colab_type": "code",
        "colab": {}
      },
      "source": [
        "indices = [\"Black\", \"White\", \"Man\", \"Woman\", \"Gay\", \"Straight\"]\n",
        "\"\"\"indices = [\"Black Woman\", \"White Woman\", \"Black Man\", \"White Man\", \n",
        "            \"Gay Man\", \"Lesbian\", \"Straight Man\", \"Straight Woman\", \n",
        "            \"Black Lesbian\", \"White Lesbian\", \"Gay Black Man\", \"Gay White Man\",\n",
        "            \"Straight Black Woman\", \"Straight White Woman\",\n",
        "            \"Straight Black man\", \"Straight White Man\"]\"\"\""
      ],
      "execution_count": null,
      "outputs": []
    },
    {
      "cell_type": "code",
      "metadata": {
        "id": "gFqyyCoAa9MY",
        "colab_type": "code",
        "colab": {}
      },
      "source": [
        "def build_templates(path:str = \"../drive/My Drive/csc699\", \n",
        "                    file:str = \"demographics.txt\",\n",
        "                    indices: list = []):\n",
        "    \"\"\"Create 60 unique templates from\n",
        "       (bias context, prefix template, demographic) triples.\n",
        "       6 demographics * 2 bias contexts * 5 prefixes = 60.\n",
        "    \"\"\"\n",
        "    templates = pd.read_csv(f\"{path}/templates.txt\")\n",
        "    demographics = pd.read_csv(f\"{path}/{file}\", header=None)\n",
        "    lst = [templates.prefix_template.str.replace(\"XYZ\", demographics.loc[i, 0]).values \n",
        "        for i in range(demographics.shape[0])]\n",
        "    tempdemos = pd.DataFrame(lst)\n",
        "    columns = [\"Respect\"] * 5 + [\"Occupation\"] * 5\n",
        "    tempdemos.columns = columns\n",
        "    tempdemos.index = indices\n",
        "    return tempdemos"
      ],
      "execution_count": null,
      "outputs": []
    },
    {
      "cell_type": "code",
      "metadata": {
        "id": "r-6WMIE1Z8ol",
        "colab_type": "code",
        "colab": {}
      },
      "source": [
        "def gen_samples(file: str, path: str = \"drive/My Drive/csc699\"):\n",
        "    \"\"\"Generate 100 samples per demographic, context/prefix pair.\"\"\"\n",
        "    model.eval() # deactivate dropout for reproducibility\n",
        "    model.to('cuda')\n",
        "    samples = dict((d, []) for d in indices)\n",
        "    samples_xyz = dict((d, []) for d in indices)\n",
        "    demographics = pd.read_csv(f\"{path}/{file}\", header=None).values.tolist()\n",
        "    for i in range(100):\n",
        "        for d, f in zip(indices, demographics):\n",
        "            prompts = tdf.loc[d, :].values.tolist()\n",
        "            for prompt in prompts:\n",
        "                input_ids = tokenizer.encode(prompt, return_tensors='pt')\n",
        "                input_ids = input_ids.to('cuda')\n",
        "                with torch.no_grad():\n",
        "                    outputs = model.generate(input_ids=input_ids, \n",
        "                                            max_length=40, \n",
        "                                            temperature=0.7,\n",
        "                                            pad_token_id = 50259,\n",
        "                                            eos_token_ids=[50259, 0, 30, 13],\n",
        "                                            do_sample=True) \n",
        "                sample = tokenizer.decode(outputs[0], skip_special_tokens=True)\n",
        "                samples[d] += [sample]\n",
        "                samples_xyz[d] += [sample.replace(f[0], \"XYZ\")]\n",
        "    return samples, samples_xyz"
      ],
      "execution_count": null,
      "outputs": []
    },
    {
      "cell_type": "markdown",
      "metadata": {
        "id": "sXTQmNVWPksA",
        "colab_type": "text"
      },
      "source": [
        "### Create data files"
      ]
    },
    {
      "cell_type": "code",
      "metadata": {
        "id": "CDJUw5T0nzNk",
        "colab_type": "code",
        "colab": {}
      },
      "source": [
        "demo_df = build_templates(file = \"intersectional.txt\", indices = indices) # demographics.txt"
      ],
      "execution_count": null,
      "outputs": []
    },
    {
      "cell_type": "code",
      "metadata": {
        "id": "zpJETPgJokyP",
        "colab_type": "code",
        "colab": {}
      },
      "source": [
        "demo_df.to_csv(\"drive/My Drive/csc699/intersectional_unique.txt\")"
      ],
      "execution_count": null,
      "outputs": []
    },
    {
      "cell_type": "code",
      "metadata": {
        "id": "-Rz9g46FqJRa",
        "colab_type": "code",
        "colab": {}
      },
      "source": [
        "columns = [\"Respect\"]\n",
        "for i in range(1, 5):\n",
        "    columns.append(f\"Respect.{i}\")\n",
        "columns.append(\"Occupation\")\n",
        "for i in range(1, 5):\n",
        "    columns.append(f\"Occupation.{i}\")"
      ],
      "execution_count": null,
      "outputs": []
    },
    {
      "cell_type": "code",
      "metadata": {
        "id": "gxujSzn4pwfB",
        "colab_type": "code",
        "colab": {}
      },
      "source": [
        "demo_df = pd.read_csv(\"drive/My Drive/csc699/intersectional_unique.txt\", index_col=0)"
      ],
      "execution_count": null,
      "outputs": []
    },
    {
      "cell_type": "code",
      "metadata": {
        "id": "ZFZnwnXXtirU",
        "colab_type": "code",
        "colab": {}
      },
      "source": [
        "samples, samples_xyz = gen_samples(file = \"intersectional.txt\") # demographics.txt\n",
        "samples_df = pd.DataFrame.from_records([samples])"
      ],
      "execution_count": null,
      "outputs": []
    },
    {
      "cell_type": "markdown",
      "metadata": {
        "id": "JfKCjPPFRCLB",
        "colab_type": "text"
      },
      "source": [
        "Test the files:"
      ]
    },
    {
      "cell_type": "code",
      "metadata": {
        "id": "eS2TIp7Jyg9F",
        "colab_type": "code",
        "colab": {}
      },
      "source": [
        "\"\"\"\n",
        "samples_df = pd.read_csv(\"drive/My Drive/csc699/samples_gpt2.csv\") # samples_gpt2int\n",
        "samples_xyz_df = pd.read_csv(\"drive/My Drive/csc699/samples_gpt2.XYZ.csv\") # samples_gpt2int.XYZ\n",
        "\"\"\""
      ],
      "execution_count": null,
      "outputs": []
    },
    {
      "cell_type": "markdown",
      "metadata": {
        "id": "IjkNjJwbSmiJ",
        "colab_type": "text"
      },
      "source": [
        "#### Clean up datasets"
      ]
    },
    {
      "cell_type": "code",
      "metadata": {
        "id": "qztx6cX6-3-w",
        "colab_type": "code",
        "colab": {}
      },
      "source": [
        "with open(\"drive/My Drive/csc699/demographics.txt\") as demof: # intersectional.txt\n",
        "    demos = demof.read().splitlines()"
      ],
      "execution_count": null,
      "outputs": []
    },
    {
      "cell_type": "code",
      "metadata": {
        "id": "KLoJ46xGCHln",
        "colab_type": "code",
        "colab": {}
      },
      "source": [
        "cdf = pd.DataFrame()\n",
        "for i in range(len(indices)):\n",
        "    lst = eval(sdf.iloc[:, i].values.tolist()[0])\n",
        "    contexts = dict([(k, []) for k in [\"Respect\", \"Occupation\"]])\n",
        "    for ix, e in enumerate(lst):\n",
        "        if ix % 5 == eval(str(ix)[-1]):\n",
        "            contexts['Respect'].append(e)\n",
        "        else:\n",
        "            contexts['Occupation'].append(e)\n",
        "    cdf = pd.concat([cdf, pd.DataFrame.from_records([contexts], \n",
        "                                                    index=[indices[i]])])"
      ],
      "execution_count": null,
      "outputs": []
    },
    {
      "cell_type": "code",
      "metadata": {
        "id": "tMJJlyqgvy44",
        "colab_type": "code",
        "colab": {}
      },
      "source": [
        "contexts = [\"Respect\", \"Occupation\"]\n",
        "for ix, d in enumerate(indices):\n",
        "    for c in contexts:\n",
        "        lst = cdf.loc[d, c]\n",
        "        flag = True\n",
        "        while flag:\n",
        "            prevlen = len(lst)\n",
        "            for sent in lst:\n",
        "                if d.lower() in sent[len(demos[i]):].lower():\n",
        "                    lst.remove(sent)\n",
        "                    cdf.loc[d, c] = lst\n",
        "            if len(lst) == prevlen:\n",
        "                flag = False"
      ],
      "execution_count": null,
      "outputs": []
    },
    {
      "cell_type": "code",
      "metadata": {
        "id": "zJyHaTvZRvc1",
        "colab_type": "code",
        "colab": {}
      },
      "source": [
        "cdf.to_csv(\"drive/My Drive/csc699/cleaned_samples.csv\", # cleaned_samples_int\n",
        "           index_label=\"Demographic\")"
      ],
      "execution_count": null,
      "outputs": []
    },
    {
      "cell_type": "code",
      "metadata": {
        "id": "0lTGo2h7E1ty",
        "colab_type": "code",
        "colab": {}
      },
      "source": [
        "\"\"\" \n",
        "# Best handled by run_classifier elsewhere:\n",
        "cdfxyz = cdf.copy(True)\n",
        "contexts = [\"Respect\", \"Occupation\"]\n",
        "for ix, d in enumerate(indices):\n",
        "    for c in contexts:\n",
        "        lst = copy.deepcopy(cdfxyz.loc[d, c])\n",
        "        while demos[ix] in lst[0]:\n",
        "            for idx, sent in enumerate(lst):\n",
        "                sent = sent.replace(demos[ix], \"XYZ\")\n",
        "                lst[idx] = sent\n",
        "                cdfxyz.loc[d, c] = lst\n",
        "cdfxyz.to_csv(\"drive/My Drive/csc699/cleaned_samples.XYZ.csv\", # cleaned_samples_int.XYZ\n",
        "              index_label=\"Demographic\")\n",
        "\"\"\""
      ],
      "execution_count": null,
      "outputs": []
    },
    {
      "cell_type": "markdown",
      "metadata": {
        "id": "panQoFeZSd6_",
        "colab_type": "text"
      },
      "source": [
        "Test the file:"
      ]
    },
    {
      "cell_type": "code",
      "metadata": {
        "id": "AtGb8y1AHgtY",
        "colab_type": "code",
        "colab": {}
      },
      "source": [
        "\"\"\"\n",
        "cdftxyz = pd.read_csv(\"drive/My Drive/csc699/cleaned_samples.XYZ.csv\", # cleaned_samples_int.XYZ\n",
        "                       converters={\"Respect\": lambda x: eval(x), \n",
        "                                   \"Occupation\": lambda x: eval(x)})\n",
        "\"\"\"\n",
        "cdft = pd.read_csv(\"drive/My Drive/csc699/cleaned_samples.csv\", # cleaned_samples_int\n",
        "                   converters={\"Respect\": lambda x: eval(x), \n",
        "                               \"Occupation\": lambda x: eval(x)})"
      ],
      "execution_count": null,
      "outputs": []
    },
    {
      "cell_type": "markdown",
      "metadata": {
        "colab_type": "text",
        "id": "MG4-XxVlPETn"
      },
      "source": [
        "## Generation (LM1B)"
      ]
    },
    {
      "cell_type": "markdown",
      "metadata": {
        "id": "_SqN22ZFTaOl",
        "colab_type": "text"
      },
      "source": [
        "### Setup"
      ]
    },
    {
      "cell_type": "code",
      "metadata": {
        "colab_type": "code",
        "id": "W6R9vqjOPETq",
        "colab": {}
      },
      "source": [
        "from IPython.display import clear_output"
      ],
      "execution_count": null,
      "outputs": []
    },
    {
      "cell_type": "code",
      "metadata": {
        "colab_type": "code",
        "id": "0_rfNhgOPEUF",
        "colab": {}
      },
      "source": [
        "import pandas as pd\n",
        "import numpy as np\n",
        "import torch\n",
        "import copy"
      ],
      "execution_count": null,
      "outputs": []
    },
    {
      "cell_type": "code",
      "metadata": {
        "colab_type": "code",
        "id": "qw-ts6pzPEUB",
        "colab": {}
      },
      "source": [
        "%tensorflow_version 1.x"
      ],
      "execution_count": null,
      "outputs": []
    },
    {
      "cell_type": "code",
      "metadata": {
        "colab_type": "code",
        "id": "SLJJkAp2PETw",
        "colab": {}
      },
      "source": [
        "!git clone https://github.com/tensorflow/models.git\n",
        "clear_output()"
      ],
      "execution_count": null,
      "outputs": []
    },
    {
      "cell_type": "code",
      "metadata": {
        "colab_type": "code",
        "id": "Pgp_OfHmPETz",
        "colab": {}
      },
      "source": [
        "%cd models/research/lm_1b\n",
        "%ls -R"
      ],
      "execution_count": null,
      "outputs": []
    },
    {
      "cell_type": "code",
      "metadata": {
        "colab_type": "code",
        "id": "XUvbR-_OPET5",
        "colab": {}
      },
      "source": [
        "!curl https://bazel.build/bazel-release.pub.gpg | sudo apt-key add -\n",
        "!echo \"deb [arch=amd64] https://storage.googleapis.com/bazel-apt stable jdk1.8\" | sudo tee /etc/apt/sources.list.d/bazel.list"
      ],
      "execution_count": null,
      "outputs": []
    },
    {
      "cell_type": "code",
      "metadata": {
        "colab_type": "code",
        "id": "kUkRBudmPET7",
        "colab": {}
      },
      "source": [
        "!sudo apt update && sudo apt install bazel\n",
        "clear_output()"
      ],
      "execution_count": null,
      "outputs": []
    },
    {
      "cell_type": "code",
      "metadata": {
        "id": "XvwCWRIeaIk9",
        "colab_type": "code",
        "colab": {}
      },
      "source": [
        "%cd ../..\n",
        "!ls -laF"
      ],
      "execution_count": null,
      "outputs": []
    },
    {
      "cell_type": "code",
      "metadata": {
        "colab_type": "code",
        "id": "VSw1fQMZPET_",
        "colab": {}
      },
      "source": [
        "%cd research\n",
        "!bazel build -c opt research/lm_1b/...\n",
        "clear_output()"
      ],
      "execution_count": null,
      "outputs": []
    },
    {
      "cell_type": "markdown",
      "metadata": {
        "id": "5Du4EoHaTcoc",
        "colab_type": "text"
      },
      "source": [
        "### Definitions"
      ]
    },
    {
      "cell_type": "code",
      "metadata": {
        "colab_type": "code",
        "id": "LTjP4GQ-PEUI",
        "colab": {}
      },
      "source": [
        "indices = [\"Black\", \"White\", \"Man\", \"Woman\", \"Gay\", \"Straight\"]\n",
        "\"\"\"\n",
        "indices = [\"Black Woman\", \"White Woman\", \"Black Man\", \"White Man\", \n",
        "            \"Gay Man\", \"Lesbian\", \"Straight Man\", \"Straight Woman\", \n",
        "            \"Black Lesbian\", \"White Lesbian\", \"Gay Black Man\", \"Gay White Man\",\n",
        "            \"Straight Black Woman\", \"Straight White Woman\",\n",
        "            \"Straight Black man\", \"Straight White Man\"]\n",
        "\"\"\""
      ],
      "execution_count": null,
      "outputs": []
    },
    {
      "cell_type": "code",
      "metadata": {
        "colab_type": "code",
        "id": "DsG2m6-LPEUJ",
        "colab": {}
      },
      "source": [
        "def build_templates(path:str = \"../drive/My Drive/csc699\", \n",
        "                    file:str = \"demographics.txt\",\n",
        "                    indices: list = []):\n",
        "    \"\"\"Create 60 unique templates from\n",
        "       (bias context, prefix template, demographic) triples.\n",
        "       6 demographics * 2 bias contexts * 5 prefixes = 60.\n",
        "    \"\"\"\n",
        "    templates = pd.read_csv(f\"{path}/templates.txt\")\n",
        "    demographics = pd.read_csv(f\"{path}/{file}\", header=None)\n",
        "    lst = [templates.prefix_template.str.replace(\"XYZ\", demographics.loc[i, 0]).values \n",
        "        for i in range(demographics.shape[0])]\n",
        "    tempdemos = pd.DataFrame(lst)\n",
        "    columns = [\"Respect\"] * 5 + [\"Occupation\"] * 5\n",
        "    tempdemos.columns = columns\n",
        "    tempdemos.index = indices\n",
        "    return tempdemos"
      ],
      "execution_count": null,
      "outputs": []
    },
    {
      "cell_type": "code",
      "metadata": {
        "colab_type": "code",
        "id": "5fHmdv4KPEUL",
        "colab": {}
      },
      "source": [
        "def lm1bgen_samples(demo_df, indices, file: str, path: str = \"../drive/My Drive/csc699\"):\n",
        "    \"\"\"Generate 100 samples per demographic, context/prefix pair.\"\"\"\n",
        "    samples = dict((d, []) for d in indices)\n",
        "    samples_xyz = dict((d, []) for d in indices)\n",
        "    demographics = pd.read_csv(f\"{path}/{file}\", header=None).values.tolist()\n",
        "    xprompts = []\n",
        "    fprompts = []\n",
        "    for d, f in zip(indices, demographics):\n",
        "        prompts = demo_df.loc[d, :].values.tolist()\n",
        "        for prompt in prompts:\n",
        "            fprompts.append(prompt)\n",
        "            xprompt = prompt.replace(f[0], \"XYZ\")\n",
        "            xprompts.append(xprompt)\n",
        "    return fprompts, xprompts"
      ],
      "execution_count": null,
      "outputs": []
    },
    {
      "cell_type": "markdown",
      "metadata": {
        "id": "o3If63ByTf70",
        "colab_type": "text"
      },
      "source": [
        "### Create data"
      ]
    },
    {
      "cell_type": "code",
      "metadata": {
        "colab_type": "code",
        "id": "1iNmHmv5PEUN",
        "colab": {}
      },
      "source": [
        "\"\"\"\n",
        "demo_df = build_templates(path=\"../csc699\", file = \"demographics.txt\", indices = indices)\n",
        "prompts, masked_prompts = lm1bgen_samples(demo_df, indices, file = \"demographics.txt\")\n",
        "prompt_df = pd.DataFrame(prompts) \n",
        "prompt_df.to_csv(\"../drive/My Drive/csc699/lm1b_prompts.tsv\", mode=\"w\", index=False)\n",
        "\n",
        "masked_prompts_df = pd.DataFrame(masked_prompts)\n",
        "masked_prompts_df.to_csv(\"../drive/My Drive/csc699/lm1b_xprompts.tsv\", mode=\"w\", index=False)\n",
        "\"\"\""
      ],
      "execution_count": null,
      "outputs": []
    },
    {
      "cell_type": "markdown",
      "metadata": {
        "id": "A7VhHVSqfoeY",
        "colab_type": "text"
      },
      "source": [
        "Check:"
      ]
    },
    {
      "cell_type": "code",
      "metadata": {
        "colab_type": "code",
        "id": "x1m3PtsIPEUQ",
        "colab": {}
      },
      "source": [
        "prompt_df = pd.read_csv(\"../csc699/lm1b_prompts.tsv\")\n",
        "samples_df = pd.read_csv(\"../csc699/lm1b_samples.txt\", sep=\"\\t\")\n",
        "prompts = pd.DataFrame([prompt[0] for prompt in prompt_df.values.tolist()], columns=['Prompt'])\n",
        "demo_df = pd.read_csv(f\"../csc699/demographics.txt\", header=None)"
      ],
      "execution_count": null,
      "outputs": []
    },
    {
      "cell_type": "markdown",
      "metadata": {
        "id": "Jzkq1E31nPak",
        "colab_type": "text"
      },
      "source": [
        "Create *XYZ* version:"
      ]
    },
    {
      "cell_type": "code",
      "metadata": {
        "id": "WUIwsWTbkOna",
        "colab_type": "code",
        "colab": {}
      },
      "source": [
        "for ix, sample in enumerate(samples_df.values):\n",
        "    for demo in demo_df.values:\n",
        "        if demo[0] in sample[0]:\n",
        "            xyz_sample = sample[0].replace(demo[0], \"XYZ\")\n",
        "            samples_df.iloc[ix] = xyz_sample\n",
        "            break"
      ],
      "execution_count": null,
      "outputs": []
    },
    {
      "cell_type": "code",
      "metadata": {
        "id": "2EqOfnGejuLo",
        "colab_type": "code",
        "colab": {}
      },
      "source": [
        "samples_df.to_csv(\"../csc699/lm1b_samples.tsv.XYZ\", index=False)"
      ],
      "execution_count": null,
      "outputs": []
    },
    {
      "cell_type": "markdown",
      "metadata": {
        "id": "FBVRHphagEp-",
        "colab_type": "text"
      },
      "source": [
        "Before running ``bazel-bin``: \n",
        "\n",
        "*   Create an empty ``WORKSPACE`` file in ``models`` directory.\n",
        "*   Upload ``lm_1b_eval.py`` version which writes ``num_samples`` for all prompts to ``lm1b_samples`` file.\n",
        "*   Use GPU version of ``pbtxt`` (note the ``(!)``)."
      ]
    },
    {
      "cell_type": "code",
      "metadata": {
        "colab_type": "code",
        "id": "LWchhPBcPEUT",
        "colab": {}
      },
      "source": [
        "!bazel-bin/research/lm_1b/lm_1b_eval --mode sample \\\n",
        "                                     --num_samples 100 \\\n",
        "                                     --max_sample_words 120 \\\n",
        "                                     --pbtxt '../drive/My Drive/lm1b model/graph-2016-09-10 (1).pbtxt' \\\n",
        "                                     --vocab_file '../drive/My Drive/lm1b model/vocab-2016-09-10.txt'  \\\n",
        "                                     --ckpt \"../drive/My Drive/lm1b model/ckpt-*\""
      ],
      "execution_count": null,
      "outputs": []
    },
    {
      "cell_type": "markdown",
      "metadata": {
        "id": "z8aSWTHcGo2M",
        "colab_type": "text"
      },
      "source": [
        "# II. Classifiers"
      ]
    },
    {
      "cell_type": "markdown",
      "metadata": {
        "id": "UkFg-zLSeBNX",
        "colab_type": "text"
      },
      "source": [
        "## Setup"
      ]
    },
    {
      "cell_type": "code",
      "metadata": {
        "id": "f1RUe9WLaQGr",
        "colab_type": "code",
        "colab": {}
      },
      "source": [
        "import pandas as pd\n",
        "from IPython.display import clear_output\n",
        "from keras.preprocessing import sequence\n",
        "from keras.preprocessing.text import Tokenizer\n",
        "from keras.models import Sequential\n",
        "from keras.layers import Dense, Dropout, Embedding, LSTM, Bidirectional\n",
        "from keras.utils import to_categorical\n",
        "import keras\n",
        "import tensorflow as tf\n",
        "import numpy as np\n",
        "import sys\n",
        "import statistics as st\n",
        "import glob, os\n",
        "import warnings\n",
        "warnings.filterwarnings('ignore')\n",
        "clear_output()"
      ],
      "execution_count": null,
      "outputs": []
    },
    {
      "cell_type": "markdown",
      "metadata": {
        "id": "pPAU3huEMHZF",
        "colab_type": "text"
      },
      "source": [
        "Build, compare automatic *regard* classifiers: 2-layer LSTM, BERT, VADER, TextBlob. ([PDF](https://www.aclweb.org/anthology/D19-1339.pdf))"
      ]
    },
    {
      "cell_type": "markdown",
      "metadata": {
        "id": "YbEN5hgR4aBa",
        "colab_type": "text"
      },
      "source": [
        "## LSTM Classifier"
      ]
    },
    {
      "cell_type": "code",
      "metadata": {
        "id": "8aCTTwrrbZWK",
        "colab_type": "code",
        "colab": {}
      },
      "source": [
        "def load_classifier_data(folder: str = \"nlg-bias\", \n",
        "                         typ: str = \"regard\", \n",
        "                         intrs: str = \"\"):\n",
        "    train_df = pd.read_csv(f\"drive/My Drive/{folder}/data/{typ}/{intrs}train.tsv\", \n",
        "                       sep=\"\\t\", \n",
        "                       header=None)\n",
        "    dev_df = pd.read_csv(f\"drive/My Drive/{folder}/data/{typ}/{intrs}dev.tsv\", \n",
        "                        sep=\"\\t\", \n",
        "                        header=None)\n",
        "    test_df = pd.read_csv(f\"drive/My Drive/{folder}/data/{typ}/{intrs}test.tsv\", \n",
        "                        sep=\"\\t\", \n",
        "                        header=None)\n",
        "    train = [(i[1], i[0]) for i in train_df.values]\n",
        "    dev = [(i[1], i[0]) for i in dev_df.values]\n",
        "    test = [(i[1], i[0]) for i in test_df.values]\n",
        "    return [train_df, dev_df, test_df, train, dev, test]"
      ],
      "execution_count": null,
      "outputs": []
    },
    {
      "cell_type": "code",
      "metadata": {
        "colab_type": "code",
        "id": "zOMCsefjwvCK",
        "colab": {}
      },
      "source": [
        "train_df, dev_df, test_df, train, dev, test = load_classifier_data(folder=\"nlg-bias\", #csc699\n",
        "                                                                   typ=\"regard\")"
      ],
      "execution_count": null,
      "outputs": []
    },
    {
      "cell_type": "code",
      "metadata": {
        "id": "a0WVuL42D5wt",
        "colab_type": "code",
        "colab": {}
      },
      "source": [
        "#!wget http://nlp.stanford.edu/data/glove.6B.zip\n",
        "#!unzip glove*.zip\n",
        "!wget https://archive.org/download/glove.6B.50d-300d/glove.6B.300d.txt"
      ],
      "execution_count": null,
      "outputs": []
    },
    {
      "cell_type": "code",
      "metadata": {
        "id": "PN8TqHJsNvAh",
        "colab_type": "code",
        "colab": {}
      },
      "source": [
        "def ind_embed():\n",
        "    \"\"\"Load GloVe embeddings.\"\"\"\n",
        "    print('Indexing word vectors.')\n",
        "    embeddings_index = {}\n",
        "    with open('drive/My Drive/glove/glove.6B.300d.txt') as glovefile:\n",
        "        for line in glovefile:\n",
        "            word, coefs = line.split(maxsplit=1)\n",
        "            coefs = np.fromstring(coefs, 'f', sep=' ')\n",
        "            embeddings_index[word] = coefs\n",
        "    return embeddings_index\n",
        "    \n",
        "def comp_fit(ys, setz, vocab_size, max_length, num_epochs, \n",
        "             embedding_matrix, e, typ, mine, save, word_index, patience=2):\n",
        "    \"\"\"Create, fit, and evaluate model.\"\"\"\n",
        "    \n",
        "    y_train, y_dev, y_test = ys\n",
        "    x_train, x_dev, x_test = setz\n",
        "    if mine:\n",
        "        mine = \"mine/\"\n",
        "    def create_model():\n",
        "        model = Sequential()\n",
        "        if e:\n",
        "            model.add(Embedding(vocab_size, \n",
        "                                300, \n",
        "                                weights=[embedding_matrix], \n",
        "                                input_length=max_length, \n",
        "                                trainable=False))\n",
        "        else:\n",
        "            model.add(Embedding(vocab_size, \n",
        "                                300, \n",
        "                                input_length=max_length))\n",
        "        model.add(LSTM(100, \n",
        "                                     dropout=0.1, \n",
        "                                     return_sequences=True, \n",
        "                                     recurrent_dropout=0.1))\n",
        "        model.add(LSTM(100, \n",
        "                                     dropout=0.1, \n",
        "                                     recurrent_dropout=0.1))\n",
        "        model.add(Dense(3, activation='softmax'))\n",
        "        model.compile(optimizer='adam', \n",
        "                    loss='categorical_crossentropy', \n",
        "                    metrics=['accuracy'])\n",
        "        #print(model.summary())\n",
        "        return model\n",
        "    model = create_model()\n",
        "    nc = 3\n",
        "    if e:\n",
        "        filepath = f'drive/My Drive/csc699/checkpoints/{typ}/glove/{mine}'\n",
        "    else:\n",
        "        filepath = f'drive/My Drive/csc699/checkpoints/{typ}/{mine}'\n",
        "    filename = 'weights.{epoch:02d}-{val_loss:.2f}.hdf5'\n",
        "    early_stopping = keras.callbacks.callbacks.EarlyStopping(monitor='val_loss', \n",
        "                                                             patience=patience, \n",
        "                                                             verbose=0)\n",
        "    model_checkpoint = keras.callbacks.callbacks.ModelCheckpoint(filepath + filename, \n",
        "                                                                 monitor='val_loss', \n",
        "                                                                 verbose=0, \n",
        "                                                                 save_best_only=save, \n",
        "                                                                 save_weights_only=save)\n",
        "    h = model.fit(x_train, to_categorical(y_train, \n",
        "                                          num_classes=nc), \n",
        "                  validation_data=(x_dev, \n",
        "                                   to_categorical(y_dev, \n",
        "                                                  num_classes=nc)), \n",
        "                verbose=0,\n",
        "                epochs=num_epochs, \n",
        "                batch_size=32,\n",
        "                callbacks = [early_stopping, model_checkpoint])\n",
        "    embeddings = model.layers[0].get_weights()[0]\n",
        "    embedding_matrix = {w:embeddings[idx] \n",
        "                        for w, idx in word_index.items()}\n",
        "    #print('black: ', embedding_matrix['black'])\n",
        "    if save:\n",
        "        print(f\"Best model weights saved in {filepath}.\")\n",
        "    loss, test_acc = model.evaluate(x_test, \n",
        "                                    to_categorical(y_test, \n",
        "                                                   num_classes=nc), \n",
        "                                    verbose=0)\n",
        "    preds = proba = model.predict_classes(x_test)\n",
        "    return h.history['val_accuracy'][-1], test_acc, preds\n",
        "\n",
        "def best_eval(filename, ys, setz, vocab_size, max_length, \n",
        "              embedding_matrix, e, typ, mine, verbose=False):\n",
        "    \"\"\"Load and evaluate best saved model.\"\"\"\n",
        "    y_train, y_dev, y_test = ys\n",
        "    x_train, x_dev, x_test = setz\n",
        "    def create_model():\n",
        "        model = Sequential()\n",
        "        if e:\n",
        "            model.add(Embedding(vocab_size, \n",
        "                                300, \n",
        "                                weights=[embedding_matrix], \n",
        "                                input_length=max_length, \n",
        "                                trainable=False))\n",
        "        else:\n",
        "            model.add(Embedding(vocab_size, \n",
        "                                300, \n",
        "                                input_length=max_length))\n",
        "        model.add(LSTM(100, \n",
        "                        dropout=0.1, \n",
        "                        return_sequences=True, \n",
        "                        recurrent_dropout=0.1))\n",
        "        model.add(LSTM(100, \n",
        "                        dropout=0.1, \n",
        "                        recurrent_dropout=0.1))\n",
        "        model.add(Dense(3, activation='softmax'))\n",
        "        model.compile(optimizer='adam', \n",
        "                      loss='categorical_crossentropy', \n",
        "                      metrics=['accuracy'])\n",
        "        return model\n",
        "    model = create_model()\n",
        "    model.load_weights(f\"{filename}\", by_name=True)\n",
        "    #print(model.summary())\n",
        "\n",
        "    nc = 3\n",
        "    loss, dev_acc = model.evaluate(x_dev, \n",
        "                                   to_categorical(y_dev, num_classes=nc), \n",
        "                                   verbose=0)\n",
        "    loss, test_acc = model.evaluate(x_test, \n",
        "                                    to_categorical(y_test, num_classes=nc), \n",
        "                                    verbose=0)\n",
        "    preds = model.predict_classes(x_test)\n",
        "    if verbose:\n",
        "        print(f'Best dev {typ} accuracy using {filename}:\\n')\n",
        "        print(dev_acc, '\\n')\n",
        "        print(f'Best test {typ} accuracy using {filename}:\\n')\n",
        "        print(test_acc)\n",
        "    return dev_acc, test_acc, preds\n",
        "\n",
        "def runs(e: bool = True, \n",
        "            filename: str = '', \n",
        "            data: list = [], \n",
        "            max_length = 50,\n",
        "            best: bool = False, \n",
        "            typ: str = 'regard', \n",
        "            num_epochs: int = 20,\n",
        "            save: bool = True,         \n",
        "            mine: bool = False,\n",
        "            nruns: int = 5,\n",
        "            patience: int = 2):\n",
        "    \"\"\"Evaluate model numerous runs and average results.\"\"\"\n",
        "    train_df, dev_df, test_df = data\n",
        "    train_x = [i[1] for i in train_df.values]\n",
        "    dev_x = [i[1] for i in dev_df.values]\n",
        "    test_x = [i[1] for i in test_df.values]\n",
        "    y_train = [int(i[0]) for i in train_df.values]\n",
        "    y_dev = [int(i[0]) for i in dev_df.values]\n",
        "    y_test = [int(i[0]) for i in test_df.values]\n",
        "    ys = y_train, y_dev, y_test\n",
        "    t = Tokenizer()\n",
        "    t.fit_on_texts(train_x)\n",
        "    t.fit_on_texts(dev_x)\n",
        "    t.fit_on_texts(test_x)\n",
        "    word_index = t.word_index\n",
        "    vocab_size = len(word_index) + 1 # unk\n",
        "\n",
        "    encoded_train = t.texts_to_sequences(train_x)\n",
        "    encoded_dev = t.texts_to_sequences(dev_x)\n",
        "    encoded_test = t.texts_to_sequences(test_x)\n",
        "\n",
        "    x_train = sequence.pad_sequences(encoded_train, \n",
        "                                     maxlen=max_length, padding='post')\n",
        "    x_dev = sequence.pad_sequences(encoded_dev, \n",
        "                                   maxlen=max_length, padding='post')\n",
        "    x_test = sequence.pad_sequences(encoded_test, \n",
        "                                    maxlen=max_length, padding='post')\n",
        "    xs = [x_train, x_dev, x_test]\n",
        "    \n",
        "    predictions = []\n",
        "    vals = []\n",
        "    tests = []\n",
        "    def prep_mat():\n",
        "        \"\"\"Load GloVe embeddings.\"\"\"\n",
        "        embeddings_index = ind_embed()\n",
        "        print('Preparing embedding matrix.')\n",
        "        embedding_matrix = np.zeros((vocab_size, 300))\n",
        "\n",
        "        def embed(word_index, embedding_matrix):\n",
        "            for word, ix in word_index.items():\n",
        "                embedding_vector = embeddings_index.get(word)\n",
        "                if embedding_vector is not None:\n",
        "                    embedding_matrix[ix] = embedding_vector\n",
        "            return embedding_matrix\n",
        "\n",
        "        embedding_matrix = embed(word_index, embedding_matrix)\n",
        "\n",
        "        return embedding_matrix\n",
        "    \n",
        "    if e:\n",
        "        embedding_matrix = prep_mat()\n",
        "    else:\n",
        "        embedding_matrix = None\n",
        "    \n",
        "    print(f\"Using pretrained embeddings: {e}.\")\n",
        "    \n",
        "    if not best:\n",
        "        for i in range(nruns):\n",
        "            print(f\"Starting run #{i+1}. Using pretrained embeddings: {e}.\")\n",
        "            val, test, preds = comp_fit(ys, xs, vocab_size, max_length, num_epochs, \n",
        "                                        embedding_matrix, e, typ, mine, save, \n",
        "                                        word_index=word_index, patience=patience)\n",
        "            vals.append(val)\n",
        "            predictions.append(preds)\n",
        "            tests.append(test)\n",
        "        \n",
        "        print('Average validation accuracy: %f' % (st.mean(vals)))\n",
        "        print('Average test accuracy: %f' % (st.mean(tests)))\n",
        "        y_test = to_categorical(ys[2], num_classes=3)\n",
        "        new_preds = []\n",
        "        for pred in predictions[0]:\n",
        "            if pred == 0:\n",
        "                new_preds.append(-1)\n",
        "            elif pred == 1:\n",
        "                new_preds.append(0)\n",
        "            else:\n",
        "                new_preds.append(1)\n",
        "        return vals, tests, st.mean(vals), st.mean(tests), new_preds\n",
        "    else:\n",
        "        for i in range(nruns):\n",
        "            try:\n",
        "                print(f\"Starting run #{i+1}. Using pretrained embeddings: {e}.\")\n",
        "                val, test, preds = best_eval(filename, ys, xs, vocab_size, max_length, \n",
        "                                             embedding_matrix, e, typ, mine)\n",
        "                vals.append(val)\n",
        "                predictions.append(preds)\n",
        "                tests.append(test)\n",
        "            except:\n",
        "                pass\n",
        "        print('Average validation accuracy for best weights: %f' % (st.mean(vals)))\n",
        "        print('Average test accuracy for best weights: %f' % (st.mean(tests)))\n",
        "        y_test = to_categorical(ys[2], num_classes=3)\n",
        "        new_preds = []\n",
        "        for pred in predictions[0]:\n",
        "            if pred == 0:\n",
        "                new_preds.append(-1)\n",
        "            elif pred == 1:\n",
        "                new_preds.append(0)\n",
        "            else:\n",
        "                new_preds.append(1)\n",
        "        return new_preds"
      ],
      "execution_count": null,
      "outputs": []
    },
    {
      "cell_type": "markdown",
      "metadata": {
        "id": "d_wjF_tQKvHP",
        "colab_type": "text"
      },
      "source": [
        "Collect average accuracies for LSTM+random, LSTM+pretrained plot."
      ]
    },
    {
      "cell_type": "code",
      "metadata": {
        "id": "PqQorwpbRw92",
        "colab_type": "code",
        "colab": {}
      },
      "source": [
        "dfs = [train_df, dev_df, test_df]"
      ],
      "execution_count": null,
      "outputs": []
    },
    {
      "cell_type": "code",
      "metadata": {
        "id": "ZDE-Y-NZYUxG",
        "colab_type": "code",
        "colab": {}
      },
      "source": [
        "evals, etests, lstm_e_val, lstm_e_test, preds = runs(e=True, # Pretrained.\n",
        "                                                     data=dfs, \n",
        "                                                     typ='regard', \n",
        "                                                     num_epochs=20,\n",
        "                                                     max_length=50,\n",
        "                                                     save=False,\n",
        "                                                     nruns=5,\n",
        "                                                     mine=True,\n",
        "                                                     patience=10)"
      ],
      "execution_count": null,
      "outputs": []
    },
    {
      "cell_type": "code",
      "metadata": {
        "id": "NbeixMbzRzzC",
        "colab_type": "code",
        "colab": {}
      },
      "source": [
        "sevals, setests, lstm_se_val, lstm_se_test, preds = runs(e=False, # Random.\n",
        "                                                         data=dfs, \n",
        "                                                         typ='regard', \n",
        "                                                         num_epochs=20,\n",
        "                                                         nruns=5,\n",
        "                                                         save=True,\n",
        "                                                         patience=10,\n",
        "                                                         mine=True)"
      ],
      "execution_count": null,
      "outputs": []
    },
    {
      "cell_type": "markdown",
      "metadata": {
        "id": "JHJQT_Dmb4Hc",
        "colab_type": "text"
      },
      "source": [
        "Write predictions for significance testing:"
      ]
    },
    {
      "cell_type": "code",
      "metadata": {
        "id": "xrvg39E_jLv5",
        "colab_type": "code",
        "colab": {}
      },
      "source": [
        "with open (f\"drive/My Drive/csc699/checkpoints/test_predictions_e_mine.txt\", \"w\") as test_preds:\n",
        "    test_preds.write('[')\n",
        "    for ix, pred in enumerate(preds):\n",
        "        if ix < len(preds):\n",
        "            test_preds.write(f'{str(pred)}, ')\n",
        "        else:\n",
        "            test_preds.write(f'{str(pred)}')\n",
        "    test_preds.write(']')"
      ],
      "execution_count": null,
      "outputs": []
    },
    {
      "cell_type": "code",
      "metadata": {
        "id": "MZpCtUw6MJNe",
        "colab_type": "code",
        "colab": {}
      },
      "source": [
        "with open (f\"drive/My Drive/csc699/checkpoints/test_predictions_se_mine.txt\", \"w\") as test_preds:\n",
        "    test_preds.write('[')\n",
        "    for ix, pred in enumerate(preds):\n",
        "        if ix < len(preds):\n",
        "            test_preds.write(f'{str(pred)}, ')\n",
        "        else:\n",
        "            test_preds.write(f'{str(pred)}')\n",
        "    test_preds.write(']')"
      ],
      "execution_count": null,
      "outputs": []
    },
    {
      "cell_type": "markdown",
      "metadata": {
        "id": "nyS28o6AcBuO",
        "colab_type": "text"
      },
      "source": [
        "Load best weights and evaluate:"
      ]
    },
    {
      "cell_type": "code",
      "metadata": {
        "id": "jaS-g6faABBN",
        "colab_type": "code",
        "colab": {}
      },
      "source": [
        "mine = True\n",
        "if mine:\n",
        "    efilepath = 'drive/My Drive/csc699/checkpoints/regard/glove/mine/'\n",
        "else:\n",
        "    efilepath = 'drive/My Drive/csc699/checkpoints/regard/glove/'\n",
        "\n",
        "efiles = glob.glob(f'{efilepath}*.hdf5')\n",
        "vals = [float(f.replace(f'{efilepath}', \n",
        "                        '').split('-')[1].replace('.hdf5', \n",
        "                                                  '')) \n",
        "        for f in efiles]\n",
        "emnkey = min(zip(efiles, vals), \n",
        "             key=lambda t: t[1])[0] # if val_loss\n",
        "emxkey = max(zip(efiles, vals), \n",
        "             key=lambda t: t[1])[0] # if val_accuracy\n",
        "\n",
        "preds = runs(data=dfs, \n",
        "            filename=emnkey, \n",
        "            e=True, \n",
        "            best=True, \n",
        "            typ=\"regard\", \n",
        "            mine=mine,\n",
        "            nruns = 1)"
      ],
      "execution_count": null,
      "outputs": []
    },
    {
      "cell_type": "code",
      "metadata": {
        "id": "4qey1fiXTXNK",
        "colab_type": "code",
        "colab": {}
      },
      "source": [
        "mine = True\n",
        "if mine:\n",
        "    sefilepath = 'drive/My Drive/csc699/checkpoints/regard/mine/'\n",
        "else:\n",
        "    sefilepath = 'drive/My Drive/csc699/checkpoints/regard/'\n",
        "\n",
        "sefiles = glob.glob(f'{sefilepath}*.hdf5')\n",
        "vals = [float(f.replace(f'{sefilepath}', \n",
        "                        '').split('-')[1].replace('.hdf5', \n",
        "                                                  '')) \n",
        "        for f in sefiles]\n",
        "semnkey = min(zip(sefiles, vals), \n",
        "              key=lambda t: t[1])[0] # if monitoring val_loss\n",
        "semxkey = max(zip(sefiles, vals), \n",
        "              key=lambda t: t[1])[0] # if monitoring val_accuracy\n",
        "\n",
        "preds = runs(data=dfs, \n",
        "            filename=semnkey, \n",
        "            e=False, \n",
        "            best=True, \n",
        "            typ='regard', \n",
        "            mine=mine,\n",
        "            nruns = 1)"
      ],
      "execution_count": null,
      "outputs": []
    },
    {
      "cell_type": "markdown",
      "metadata": {
        "id": "HJnW29KB_f_Z",
        "colab_type": "text"
      },
      "source": [
        "## BERT Classifier"
      ]
    },
    {
      "cell_type": "code",
      "metadata": {
        "id": "FRbkJvrcPapP",
        "colab_type": "code",
        "colab": {}
      },
      "source": [
        "from IPython.display import clear_output\n",
        "!pip install transformers\n",
        "clear_output()"
      ],
      "execution_count": null,
      "outputs": []
    },
    {
      "cell_type": "code",
      "metadata": {
        "id": "EtNTPtqan_i-",
        "colab_type": "code",
        "colab": {}
      },
      "source": [
        "%cd 'drive/My Drive/nlg-bias/scripts'"
      ],
      "execution_count": null,
      "outputs": []
    },
    {
      "cell_type": "markdown",
      "metadata": {
        "id": "8jVUejuLcRon",
        "colab_type": "text"
      },
      "source": [
        "Tune BERT for our data:"
      ]
    },
    {
      "cell_type": "code",
      "metadata": {
        "id": "sO0sle68jjc0",
        "colab_type": "code",
        "colab": {}
      },
      "source": [
        "# --save_steps -1 for continuing training from checkpoint (line 147 edit)\n",
        "!python run_classifier.py \\\n",
        "  --tokenizer_name '../../csc699/models/bert' \\\n",
        "  --model_type bert \\\n",
        "  --model_name_or_path '../../csc699/models/bert' \\\n",
        "  --do_train \\\n",
        "  --save_steps -1 \\\n",
        "  --num_train_epochs 3 \\\n",
        "  --data_dir '../../csc699/data/regard' \\\n",
        "  --max_seq_length 120 \\\n",
        "  --model_version 1 \\\n",
        "  --do_lower_case \\\n",
        "  --overwrite_output_dir \\\n",
        "  --overwrite_cache \\\n",
        "  --per_gpu_eval_batch_size 32 \\\n",
        "  --output_dir '../../csc699/models/regard/custom/mine'"
      ],
      "execution_count": null,
      "outputs": []
    },
    {
      "cell_type": "markdown",
      "metadata": {
        "id": "jmyajYIFcdWA",
        "colab_type": "text"
      },
      "source": [
        "Inference:"
      ]
    },
    {
      "cell_type": "code",
      "metadata": {
        "id": "W7jZpIIm-Hkn",
        "colab_type": "code",
        "colab": {}
      },
      "source": [
        "!python run_classifier.py \\\n",
        "  --do_predict \\\n",
        "  --do_eval \\\n",
        "  --do_lower_case \\\n",
        "  --model_type 'bert' \\\n",
        "  --model_name_or_path '../../csc699/models/regard/custom/mine' \\\n",
        "  --data_dir '../../csc699/data/regard' \\\n",
        "  --overwrite_cache \\\n",
        "  --per_gpu_eval_batch_size 32 \\\n",
        "  --output_dir '../../csc699/models/regard/custom/mine'"
      ],
      "execution_count": null,
      "outputs": []
    },
    {
      "cell_type": "markdown",
      "metadata": {
        "id": "IrFpQXol4dMa",
        "colab_type": "text"
      },
      "source": [
        "## TextBlob"
      ]
    },
    {
      "cell_type": "code",
      "metadata": {
        "id": "KsfBuKLT4Tw1",
        "colab_type": "code",
        "colab": {}
      },
      "source": [
        "from IPython.display import clear_output"
      ],
      "execution_count": null,
      "outputs": []
    },
    {
      "cell_type": "code",
      "metadata": {
        "id": "Sz3pLu0_4W6k",
        "colab_type": "code",
        "colab": {}
      },
      "source": [
        "from textblob import TextBlob"
      ],
      "execution_count": null,
      "outputs": []
    },
    {
      "cell_type": "code",
      "metadata": {
        "id": "YofHxpDW5QbU",
        "colab_type": "code",
        "colab": {}
      },
      "source": [
        "!python -m textblob.download_corpora\n",
        "clear_output()"
      ],
      "execution_count": null,
      "outputs": []
    },
    {
      "cell_type": "code",
      "metadata": {
        "id": "nAxTy42RCawk",
        "colab_type": "code",
        "colab": {}
      },
      "source": [
        "def test_tb(df, typ, c):\n",
        "    corr = 0\n",
        "    for ix, i in enumerate(df.iloc[:, 1]):\n",
        "        cont = TextBlob(i)\n",
        "        pol = cont.sentiment.polarity\n",
        "        if pol > 0:\n",
        "            pred = 1\n",
        "        elif pol < 0:\n",
        "            pred = -1\n",
        "        else:\n",
        "            pred = 0\n",
        "\n",
        "        targ = df.iloc[ix, 0]\n",
        "        if targ == pred:\n",
        "            corr += 1\n",
        "    print(f\"{typ} set accuracy ({c}): {corr/len(df):2.2f}\")\n",
        "    return corr/len(df)"
      ],
      "execution_count": null,
      "outputs": []
    },
    {
      "cell_type": "code",
      "metadata": {
        "id": "RGwfxI5jiqmF",
        "colab_type": "code",
        "colab": {}
      },
      "source": [
        "blb_train = test_tb(train_df, \"train\", \"reg\")\n",
        "blb_val = test_tb(dev_df, \"val\", \"reg\")\n",
        "blb_test = test_tb(test_df, \"test\", \"reg\")"
      ],
      "execution_count": null,
      "outputs": []
    },
    {
      "cell_type": "markdown",
      "metadata": {
        "id": "-XFyEoEX4fOz",
        "colab_type": "text"
      },
      "source": [
        "## VADER"
      ]
    },
    {
      "cell_type": "code",
      "metadata": {
        "id": "K3xRgFtbPYox",
        "colab_type": "code",
        "colab": {}
      },
      "source": [
        "from nltk.sentiment.vader import SentimentIntensityAnalyzer\n",
        "import nltk\n",
        "clear_output()"
      ],
      "execution_count": null,
      "outputs": []
    },
    {
      "cell_type": "code",
      "metadata": {
        "id": "fWLfe_vEPY7a",
        "colab_type": "code",
        "colab": {}
      },
      "source": [
        "nltk.download('vader_lexicon')\n",
        "clear_output()"
      ],
      "execution_count": null,
      "outputs": []
    },
    {
      "cell_type": "code",
      "metadata": {
        "id": "-1xqDStO5gvL",
        "colab_type": "code",
        "colab": {}
      },
      "source": [
        "analyser = SentimentIntensityAnalyzer()"
      ],
      "execution_count": null,
      "outputs": []
    },
    {
      "cell_type": "code",
      "metadata": {
        "id": "9f9YiKS_5kIT",
        "colab_type": "code",
        "colab": {}
      },
      "source": [
        "def get_sentiment(sentences, targs) -> None:\n",
        "    \"\"\"Compute compound scores and label heuristically, calculate accuracy.\"\"\"\n",
        "    l = map(lambda s: analyser.polarity_scores(s)['compound'], sentences)\n",
        "    labels = []\n",
        "    for i, p in enumerate(l):\n",
        "        if p >= 0.05:\n",
        "            labels.append(1)\n",
        "        elif p <= -0.05:\n",
        "            labels.append(-1)\n",
        "        else: # -0.05 < p < 0.05\n",
        "            labels.append(0)\n",
        "    return sum([int(t == l) for t, l in zip(targs, labels)])/len(sentences)"
      ],
      "execution_count": null,
      "outputs": []
    },
    {
      "cell_type": "code",
      "metadata": {
        "id": "DJBQw5ST6Ayy",
        "colab_type": "code",
        "colab": {}
      },
      "source": [
        "train_acc = get_sentiment([i[0] for i in train], [i[1] for i in train])\n",
        "val_acc = get_sentiment([i[0] for i in dev], [i[1] for i in dev])\n",
        "test_acc = get_sentiment([i[0] for i in test], [i[1] for i in test])\n",
        "\n",
        "print('train: ', train_acc)\n",
        "print('val:', val_acc)\n",
        "print('test:', test_acc)"
      ],
      "execution_count": null,
      "outputs": []
    },
    {
      "cell_type": "markdown",
      "metadata": {
        "id": "Rgezc-kMf-Hb",
        "colab_type": "text"
      },
      "source": [
        "## Plot"
      ]
    },
    {
      "cell_type": "code",
      "metadata": {
        "id": "4oSSBrIQgS6p",
        "colab_type": "code",
        "colab": {}
      },
      "source": [
        "import matplotlib.pyplot as plt\n",
        "import matplotlib.patches\n",
        "import matplotlib.font_manager as font_manager\n",
        "import numpy as np\n",
        "import pandas as pd\n",
        "import random, time\n",
        "from collections import Counter\n",
        "from collections import OrderedDict"
      ],
      "execution_count": null,
      "outputs": []
    },
    {
      "cell_type": "code",
      "metadata": {
        "id": "PsxZCkr0M04J",
        "colab_type": "code",
        "colab": {}
      },
      "source": [
        "bdev = pd.read_csv('../../csc699/models/regard/custom/mine/eval_results.txt', \n",
        "                   header=None, \n",
        "                   sep=\"=\")\n",
        "btest = pd.read_csv('../../csc699/models/regard/custom/mine/test_results.txt', \n",
        "                    header=None, \n",
        "                    sep=\"=\")\n",
        "\n",
        "bval = bdev.loc[0, 1]\n",
        "btest = btest.loc[0, 1]"
      ],
      "execution_count": null,
      "outputs": []
    },
    {
      "cell_type": "code",
      "metadata": {
        "id": "ebMV5lVqnzzu",
        "colab_type": "code",
        "colab": {}
      },
      "source": [
        "%cd ../../../.."
      ],
      "execution_count": null,
      "outputs": []
    },
    {
      "cell_type": "code",
      "metadata": {
        "id": "YZAPsyvthK_G",
        "colab_type": "code",
        "colab": {}
      },
      "source": [
        "def plot_accuracies(vals:list = [], \n",
        "                    tests:list = [], \n",
        "                    typ:str = 'regard', \n",
        "                    filename: str = 'model_'):\n",
        "    filename = f'{filename}{typ}' if filename == 'model_' else filename\n",
        "    fig, ax = plt.subplots(figsize=(4.1, 4.5))\n",
        "    width = .25\n",
        "    labels = ['TextBlob', \n",
        "              'VADER', \n",
        "              'LSTM+random', \n",
        "              'LSTM+pretrained', \n",
        "              'BERT']\n",
        "    x = np.arange(len(labels))\n",
        "    val = ax.bar(x - width/1.8, \n",
        "                 vals, \n",
        "                 width/1.05, \n",
        "                 label='Validation set', \n",
        "                 color='black')\n",
        "    test = ax.bar(x + width/1.8, \n",
        "                  tests, \n",
        "                  width/1.05, \n",
        "                  label=\"Test set\", \n",
        "                  color='white', \n",
        "                  hatch='...', \n",
        "                  edgecolor='black')\n",
        "    ax.set_ylabel('Accuracy', \n",
        "                  family='serif')\n",
        "    ax.set_yticks(np.arange(0.0, 1.1, 0.1))\n",
        "    ax.yaxis.set_ticks_position('both')\n",
        "    ax.tick_params(axis='y', \n",
        "                   direction='in')\n",
        "    ax.set_xticks(np.arange(0.0, 5.0, 1))\n",
        "    ax.set_xticklabels(family='serif', \n",
        "                       labels=labels, \n",
        "                       rotation=25, \n",
        "                       ha='right')\n",
        "    ax.set_title(f\"Models' {typ} classification accuracies\\n\")\n",
        "    p = matplotlib.patches.Patch(facecolor='white', \n",
        "                                 edgecolor='black', \n",
        "                                 hatch=r'...', \n",
        "                                 label='Test set')\n",
        "    font = font_manager.FontProperties(family='serif')\n",
        "    ax.legend(prop=font,\n",
        "              handles=[val, p], \n",
        "              loc='upper left', \n",
        "              edgecolor='black')\n",
        "\n",
        "    def autolabel(scores):\n",
        "        \"\"\"\n",
        "        Attach a text label above each bar \n",
        "        in *rects*, displaying its height.\n",
        "        \"\"\"\n",
        "        for s in scores:\n",
        "            height = s.get_height()\n",
        "            ax.annotate('{:2.2f}'.format(height),\n",
        "                        rotation=90,\n",
        "                        xy=(s.get_x() + s.get_width() / 1.5, \n",
        "                            height),\n",
        "                        xytext=(0, 5),  \n",
        "                        textcoords=\"offset points\",\n",
        "                        ha='center', \n",
        "                        va='bottom')\n",
        "\n",
        "    autolabel(val)\n",
        "    autolabel(test)\n",
        "    plt.tight_layout()\n",
        "    plt.savefig(f'drive/My Drive/csc699/{filename}.png', \n",
        "                transparent=True)\n",
        "    plt.show()"
      ],
      "execution_count": null,
      "outputs": []
    },
    {
      "cell_type": "code",
      "metadata": {
        "id": "3thrgCHlnnVV",
        "colab_type": "code",
        "colab": {}
      },
      "source": [
        "vals = [blb_val, # TextBlob\n",
        "        val_acc, # VADER\n",
        "        lstm_se_val, # LSTM sans GloVe embeddings.\n",
        "        lstm_e_val,  # LSTM w/ GloVe embeddings.\n",
        "        bval] # BERT\n",
        "tests = [blb_test, # TextBlob\n",
        "         test_acc, # VADER\n",
        "         lstm_se_test, # LSTM sans GloVe embeddings.\n",
        "         lstm_e_test, # LSTM w/ GloVe embeddings.\n",
        "         btest] # BERT"
      ],
      "execution_count": null,
      "outputs": []
    },
    {
      "cell_type": "code",
      "metadata": {
        "id": "l4ulovUQkN2v",
        "colab_type": "code",
        "colab": {}
      },
      "source": [
        "plot_accuracies(vals=vals, \n",
        "                tests=tests, \n",
        "                typ='regard', \n",
        "                filename='my_amt_my_model_accs')"
      ],
      "execution_count": null,
      "outputs": []
    },
    {
      "cell_type": "markdown",
      "metadata": {
        "colab_type": "text",
        "id": "TJLXuSz66IYj"
      },
      "source": [
        "From paper:\n",
        "\n",
        "![image.png](data:image/png;base64,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)"
      ]
    },
    {
      "cell_type": "code",
      "metadata": {
        "id": "AHEa_2nd0I6Y",
        "colab_type": "code",
        "colab": {}
      },
      "source": [
        "train_df, dev_df, test_df, train, dev, test = load_classifier_data(\"nlg-bias\", \n",
        "                                                                   typ=\"regard\")"
      ],
      "execution_count": null,
      "outputs": []
    },
    {
      "cell_type": "code",
      "metadata": {
        "id": "mvjNK1aD0Rf0",
        "colab_type": "code",
        "colab": {}
      },
      "source": [
        "data = train + dev + test\n",
        "#labels = [i[1] for i in data]"
      ],
      "execution_count": null,
      "outputs": []
    },
    {
      "cell_type": "code",
      "metadata": {
        "id": "hfEHIVSg1s6n",
        "colab_type": "code",
        "colab": {}
      },
      "source": [
        "test_preds_df = pd.read_csv(\"drive/My Drive/csc699/models/regard/custom/test_predictions.txt\", header=None, sep=\"\\t\")\n",
        "#labels = test_preds[0].tolist()"
      ],
      "execution_count": null,
      "outputs": []
    },
    {
      "cell_type": "code",
      "metadata": {
        "id": "JNEXih5e2Ugj",
        "colab_type": "code",
        "colab": {}
      },
      "source": [
        "test_preds = [(j, i) for i, j in test_preds_df.values.tolist()]"
      ],
      "execution_count": null,
      "outputs": []
    },
    {
      "cell_type": "code",
      "metadata": {
        "id": "iS8lRrCf2N-q",
        "colab_type": "code",
        "colab": {}
      },
      "source": [
        "data = [j[1] for i, j in zip(sorted(test), sorted(test_preds)) if i[1] == j[1]]"
      ],
      "execution_count": null,
      "outputs": []
    },
    {
      "cell_type": "code",
      "metadata": {
        "id": "01dclNrA0LEP",
        "colab_type": "code",
        "colab": {}
      },
      "source": [
        "from scipy.stats import shapiro, normaltest, anderson\n",
        "\n",
        "# normality test\n",
        "stat, p = shapiro(data)\n",
        "print('Statistics=%.3f, p=%.3f' % (stat, p))\n",
        "# interpret\n",
        "alpha = 0.05\n",
        "if p > alpha:\n",
        "\tprint('Sample looks Gaussian (fail to reject H0)')\n",
        "else:\n",
        "\tprint('Sample does not look Gaussian (reject H0)')\n",
        " \n",
        "stat, p = normaltest(data)\n",
        "print('Statistics=%.3f, p=%.3f' % (stat, p))\n",
        "# interpret\n",
        "alpha = 0.05\n",
        "if p > alpha:\n",
        "\tprint('Sample looks Gaussian (fail to reject H0)')\n",
        "else:\n",
        "\tprint('Sample does not look Gaussian (reject H0)')\n",
        " \n",
        "result = anderson(data)\n",
        "print('Statistic: %.3f' % result.statistic)\n",
        "p = 0\n",
        "for i in range(len(result.critical_values)):\n",
        "\tsl, cv = result.significance_level[i], result.critical_values[i]\n",
        "\tif result.statistic < result.critical_values[i]:\n",
        "\t\tprint('%.3f: %.3f, data looks normal (fail to reject H0)' % (sl, cv))\n",
        "\telse:\n",
        "\t\tprint('%.3f: %.3f, data does not look normal (reject H0)' % (sl, cv))"
      ],
      "execution_count": null,
      "outputs": []
    },
    {
      "cell_type": "code",
      "metadata": {
        "id": "RM-pdBl9zbTT",
        "colab_type": "code",
        "colab": {}
      },
      "source": [
        "plt.hist(data)\n",
        "plt.show()"
      ],
      "execution_count": null,
      "outputs": []
    },
    {
      "cell_type": "markdown",
      "metadata": {
        "id": "n6162nMo0Da2",
        "colab_type": "text"
      },
      "source": [
        "# III. Analysis"
      ]
    },
    {
      "cell_type": "markdown",
      "metadata": {
        "colab_type": "text",
        "id": "TDyGzi186Rqn"
      },
      "source": [
        "Analyze biases in generative models (GPT-2, [LM1B](https://github.com/tensorflow/models/tree/master/research/lm_1b)) by comparing *regard* scores."
      ]
    },
    {
      "cell_type": "markdown",
      "metadata": {
        "id": "3yk0pJOSxvaA",
        "colab_type": "text"
      },
      "source": [
        "### Setup"
      ]
    },
    {
      "cell_type": "code",
      "metadata": {
        "id": "daopTf516n49",
        "colab_type": "code",
        "colab": {}
      },
      "source": [
        "\"\"\"\n",
        "!git clone https://github.com/ewsheng/nlg-bias.git\n",
        "clear_output()\n",
        "\"\"\"\n",
        "\n",
        "from IPython.display import clear_output\n",
        "!pip install transformers\n",
        "import nltk\n",
        "nltk.download('vader_lexicon')\n",
        "nltk.download('punkt')\n",
        "%cd 'drive/My Drive/nlg-bias'\n",
        "clear_output()"
      ],
      "execution_count": null,
      "outputs": []
    },
    {
      "cell_type": "markdown",
      "metadata": {
        "id": "Om47NA-KwrAw",
        "colab_type": "text"
      },
      "source": [
        "### Run ensemble"
      ]
    },
    {
      "cell_type": "markdown",
      "metadata": {
        "id": "TiO-Z7u3LTI7",
        "colab_type": "text"
      },
      "source": [
        "Classify and plot combined bias contexts and individual (`bias_dim`)."
      ]
    },
    {
      "cell_type": "markdown",
      "metadata": {
        "id": "u0b1Ib1TG7S4",
        "colab_type": "text"
      },
      "source": [
        "---\n",
        "Did not produce checkpoints with their published methodology."
      ]
    },
    {
      "cell_type": "code",
      "metadata": {
        "id": "AOfo-_iYDmrX",
        "colab_type": "code",
        "colab": {}
      },
      "source": [
        "#!tar -zxvf \"sentiment1.tar.gz\""
      ],
      "execution_count": null,
      "outputs": []
    },
    {
      "cell_type": "markdown",
      "metadata": {
        "id": "eGv6m-BjP8yI",
        "colab_type": "text"
      },
      "source": [
        "#### My classifier trained on author AMT, inference on my data and author data."
      ]
    },
    {
      "cell_type": "code",
      "metadata": {
        "id": "OAvadyrDLJgz",
        "colab_type": "code",
        "colab": {}
      },
      "source": [
        "!python scripts/eval2.py --sample_file 'data/generated_samples/my_gpt2_generated_samples.tsv' \\\n",
        "                --model_type regard1 \\\n",
        "                --path '../csc699/models/regard'"
      ],
      "execution_count": null,
      "outputs": []
    },
    {
      "cell_type": "code",
      "metadata": {
        "id": "eWIZ3Pn0VyAc",
        "colab_type": "code",
        "colab": {}
      },
      "source": [
        "!python scripts/eval2.py --sample_file 'data/generated_samples/my_sample.tsv' \\\n",
        "                --model_type regard1 \\\n",
        "                --path '../csc699/models/regard'"
      ],
      "execution_count": null,
      "outputs": []
    },
    {
      "cell_type": "code",
      "metadata": {
        "id": "W-3o9yE2BkA0",
        "colab_type": "code",
        "colab": {}
      },
      "source": [
        "!python scripts/eval2.py --sample_file 'data/generated_samples/my_lm1b_samples.tsv' \\\n",
        "                --model_type regard1 \\\n",
        "                --path '../csc699/models/regard'"
      ],
      "execution_count": null,
      "outputs": []
    },
    {
      "cell_type": "markdown",
      "metadata": {
        "id": "E0NL9-hn6rGA",
        "colab_type": "text"
      },
      "source": [
        "#### My classifier trained on my AMT, inference on my data:"
      ]
    },
    {
      "cell_type": "code",
      "metadata": {
        "colab_type": "code",
        "id": "fERCm8o4m4hA",
        "colab": {}
      },
      "source": [
        "!python scripts/eval2.py --sample_file 'data/generated_samples/my_gpt2_generated_samples.tsv' \\\n",
        "                --model_type regard1 \\\n",
        "                --path '../csc699/models/regard/custom/mine'"
      ],
      "execution_count": null,
      "outputs": []
    },
    {
      "cell_type": "code",
      "metadata": {
        "colab_type": "code",
        "id": "XD4an-0Em4hE",
        "colab": {}
      },
      "source": [
        "!python scripts/eval2.py --sample_file 'data/generated_samples/my_lm1b_samples.tsv' \\\n",
        "                --model_type regard1 \\\n",
        "                --path '../csc699/models/regard/mine'"
      ],
      "execution_count": null,
      "outputs": []
    },
    {
      "cell_type": "code",
      "metadata": {
        "id": "HiO4k9ql6EM9",
        "colab_type": "code",
        "colab": {}
      },
      "source": [
        "!python scripts/eval2.py --sample_file 'data/generated_samples/my_sample.tsv' \\\n",
        "                --model_type regard1 \\\n",
        "                --path '../csc699/models/regard/mine'"
      ],
      "execution_count": null,
      "outputs": []
    },
    {
      "cell_type": "code",
      "metadata": {
        "id": "Pzz7boPqV2Sa",
        "colab_type": "code",
        "colab": {}
      },
      "source": [
        "\"\"\"\n",
        "!python scripts/eval2.py --sample_file 'data/generated_samples/my_sample_int.tsv' \\\n",
        "                --model_type regard1 \\\n",
        "                --path '../csc699/models/regard/mine'\n",
        "\"\"\""
      ],
      "execution_count": null,
      "outputs": []
    },
    {
      "cell_type": "markdown",
      "metadata": {
        "id": "VW7jqSOuPwJm",
        "colab_type": "text"
      },
      "source": [
        "#### My classifier trained on my AMT, inference on author data:"
      ]
    },
    {
      "cell_type": "code",
      "metadata": {
        "id": "7JjNeidvPuYi",
        "colab_type": "code",
        "colab": {}
      },
      "source": [
        "!python scripts/eval2.py --sample_file 'data/generated_samples/lm1b_generated_samples.tsv' \\\n",
        "                --model_type regard1 \\\n",
        "                --path '../csc699/models/regard/custom'"
      ],
      "execution_count": null,
      "outputs": []
    },
    {
      "cell_type": "markdown",
      "metadata": {
        "id": "UU6tMTNb6nCR",
        "colab_type": "text"
      },
      "source": [
        "#### My classifier trained on author AMT, inference on author data:"
      ]
    },
    {
      "cell_type": "code",
      "metadata": {
        "id": "KZzZL2EqnIJZ",
        "colab_type": "code",
        "colab": {}
      },
      "source": [
        "!python scripts/eval2.py --sample_file 'data/generated_samples/sample.tsv' \\\n",
        "                --model_type regard1 \\\n",
        "                --path '../csc699/models/regard'"
      ],
      "execution_count": null,
      "outputs": []
    },
    {
      "cell_type": "code",
      "metadata": {
        "colab_type": "code",
        "id": "XMxvpxp9nDXf",
        "colab": {}
      },
      "source": [
        "!python scripts/eval2.py --sample_file 'data/generated_samples/small_gpt2_generated_samples.tsv' \\\n",
        "                --model_type regard1 \\\n",
        "                --path '../csc699/models/regard'"
      ],
      "execution_count": null,
      "outputs": []
    },
    {
      "cell_type": "code",
      "metadata": {
        "colab_type": "code",
        "id": "NIswt6WhnDXm",
        "colab": {}
      },
      "source": [
        "!python scripts/eval2.py --sample_file 'data/generated_samples/lm1b_generated_samples.tsv' \\\n",
        "                --model_type regard1 \\\n",
        "                --path '../csc699/models/regard'"
      ],
      "execution_count": null,
      "outputs": []
    },
    {
      "cell_type": "markdown",
      "metadata": {
        "colab_type": "text",
        "id": "2_hKnGJnLDE8"
      },
      "source": [
        "---\n",
        "#### Author classifier trained on author AMT, inference on author data:"
      ]
    },
    {
      "cell_type": "code",
      "metadata": {
        "id": "sjyclYzW0Ug3",
        "colab_type": "code",
        "colab": {}
      },
      "source": [
        "!python scripts/eval.py --sample_file 'data/generated_samples/sample.tsv' \\\n",
        "                --model_type regard1 \\\n",
        "#                --bias_dim 'all'"
      ],
      "execution_count": null,
      "outputs": []
    },
    {
      "cell_type": "code",
      "metadata": {
        "id": "7yat3tl_0wvF",
        "colab_type": "code",
        "colab": {}
      },
      "source": [
        "!python scripts/eval.py --sample_file 'data/generated_samples/small_gpt2_generated_samples.tsv' \\\n",
        "                --model_type sentiment1 \\"
      ],
      "execution_count": null,
      "outputs": []
    },
    {
      "cell_type": "markdown",
      "metadata": {
        "colab_type": "text",
        "id": "kBI4WPqEK5sC"
      },
      "source": [
        "---\n",
        "#### Author classifier trained on author AMT, inference on my data:"
      ]
    },
    {
      "cell_type": "code",
      "metadata": {
        "id": "uohabNY8rfyX",
        "colab_type": "code",
        "colab": {}
      },
      "source": [
        "!python scripts/eval.py --sample_file 'data/generated_samples/my_sample.tsv' \\\n",
        "                --model_type regard1 \\"
      ],
      "execution_count": null,
      "outputs": []
    },
    {
      "cell_type": "code",
      "metadata": {
        "id": "BuVfyDmlgjjL",
        "colab_type": "code",
        "colab": {}
      },
      "source": [
        "!python scripts/eval.py --sample_file 'data/generated_samples/my_lm1b_samples6k.tsv' \\\n",
        "                --model_type sentiment1 \\"
      ],
      "execution_count": null,
      "outputs": []
    },
    {
      "cell_type": "code",
      "metadata": {
        "id": "FKYX445qg7d6",
        "colab_type": "code",
        "colab": {}
      },
      "source": [
        "!python scripts/eval.py --sample_file 'data/generated_samples/my_small_gpt2_generated_samples.tsv' \\\n",
        "                --model_type regard1 \\"
      ],
      "execution_count": null,
      "outputs": []
    },
    {
      "cell_type": "code",
      "metadata": {
        "id": "FVf8XmnNbc2o",
        "colab_type": "code",
        "colab": {}
      },
      "source": [
        "!python scripts/eval.py --sample_file 'data/generated_samples/my_sample_int.tsv' \\\n",
        "                --model_type regard1 \\"
      ],
      "execution_count": null,
      "outputs": []
    },
    {
      "cell_type": "markdown",
      "metadata": {
        "id": "eQ7IPcBN5lzY",
        "colab_type": "text"
      },
      "source": [
        "### Plot\n",
        "\n",
        "Also see alternative `plot_scores()` in `nlg-bias/scripts/analyze_generated_outputs.py`."
      ]
    },
    {
      "cell_type": "code",
      "metadata": {
        "id": "4IAKDo6HDr7n",
        "colab_type": "code",
        "colab": {}
      },
      "source": [
        "import matplotlib.pyplot as plt\n",
        "import matplotlib.patches\n",
        "import matplotlib.font_manager as font_manager\n",
        "import numpy as np\n",
        "import pandas as pd\n",
        "import random, time\n",
        "from collections import Counter\n",
        "from collections import OrderedDict"
      ],
      "execution_count": null,
      "outputs": []
    },
    {
      "cell_type": "code",
      "metadata": {
        "id": "MjuH0eIfNbqz",
        "colab_type": "code",
        "colab": {}
      },
      "source": [
        "def plot_scores(score_list, label_list, context, ratio=False):\n",
        "    fig, ax = plt.subplots(figsize=(4.1, 4.5))\n",
        "    width = .25\n",
        "    x = np.arange(len(label_list)/2)\n",
        "    ld = {'neg': [], 'neu': [], 'pos': []}\n",
        "    for score_idx in range(len(score_list)):\n",
        "        scores = score_list[score_idx]\n",
        "        label = label_list[score_idx]\n",
        "        score_counts = Counter()\n",
        "        for s in scores:\n",
        "            if s >= 0.05:\n",
        "                score_counts['+'] += 1\n",
        "            elif s <= -0.05:\n",
        "                score_counts['-'] += 1\n",
        "            else:\n",
        "                score_counts['0'] += 1\n",
        "        if ratio:\n",
        "            if len(scores):\n",
        "                score_len = float(len(scores))\n",
        "                score_counts['+'] /= score_len\n",
        "                score_counts['-'] /= score_len\n",
        "                score_counts['0'] /= score_len\n",
        "        ld['neg'].append(score_counts['-'])\n",
        "        ld['neu'].append(score_counts['0'])\n",
        "        ld['pos'].append(score_counts['+'])\n",
        "    # Black/, Man/, Straight/\n",
        "    neg = ax.bar(x - width/2, [ld['neg'][0], ld['neg'][2], ld['neg'][4]], width/1.05, \n",
        "                 label='negative', color='black')\n",
        "    neu = ax.bar(x - width/2, [ld['neu'][0], ld['neu'][2], ld['neu'][4]], width/1.05, \n",
        "                        bottom=[ld['neg'][0], ld['neg'][2], ld['neg'][4]],\n",
        "                        label=\"neutral\", color='white', \n",
        "                        hatch='...', edgecolor='black')\n",
        "    pos = ax.bar(x - width/2, \n",
        "                        [ld['pos'][0], ld['pos'][2], ld['pos'][4]], \n",
        "                        width/1.05, \n",
        "                        bottom=[neu + neg for neu, neg in zip([ld['neu'][0], ld['neu'][2], ld['neu'][4]], \n",
        "                                                              [ld['neg'][0], ld['neg'][2], ld['neg'][4]])], \n",
        "                        label='positive', color='gray')\n",
        "    # /White, /Woman, /Gay\n",
        "\n",
        "    neg2 = ax.bar(x + width/2, [ld['neg'][1], ld['neg'][3], ld['neg'][5]], width/1.05, \n",
        "                 label='negative', color='black')\n",
        "    neu2 = ax.bar(x + width/2, [ld['neu'][1], ld['neu'][3], ld['neu'][5]], width/1.05, \n",
        "                        bottom=[ld['neg'][1], ld['neg'][3], ld['neg'][5]],\n",
        "                        label=\"neutral\", color='white', \n",
        "                        hatch='...', edgecolor='black')\n",
        "    pos2 = ax.bar(x + width/2, \n",
        "                        [ld['pos'][1], ld['pos'][3], ld['pos'][5]], width/1.05, \n",
        "                        bottom=[neu + neg for neu, neg in zip([ld['neu'][1], ld['neu'][3], ld['neu'][5]], \n",
        "                                                              [ld['neg'][1], ld['neg'][3], ld['neg'][5]])], \n",
        "                        label='positive', color='gray')\n",
        "    ax.set_yticks(np.arange(0.0, 1.1, 0.1))\n",
        "    ax.set_ylabel('Regard', family='serif')\n",
        "    ax.yaxis.set_ticks_position('both')\n",
        "    ax.tick_params(axis='y', direction='in')\n",
        "    x1 = np.arange(len(label_list)/2)\n",
        "    x2 = x1 - width/2\n",
        "    x3 = x1 + width/2\n",
        "    x4 = x2.tolist()\n",
        "    x4.extend(x3.tolist())\n",
        "    ax.set_xticks(np.array(x4))\n",
        "    xl = [label_list[0], label_list[2], label_list[4]]\n",
        "    xl2 = [label_list[1], label_list[3], label_list[5]]\n",
        "    xl.extend(xl2)\n",
        "    ax.set_xticklabels(family='serif', labels=xl, rotation=25, ha='right')\n",
        "    ax.set_xticks(x4)\n",
        "    ax.set_title(f\"{context.capitalize()}\\n\")\n",
        "    p = matplotlib.patches.Patch(facecolor='white', \n",
        "                                 edgecolor='black', \n",
        "                                 hatch=r'...', \n",
        "                                 label='neutral')\n",
        "    font = font_manager.FontProperties(family='serif')\n",
        "    ax.legend(bbox_to_anchor=(0.5, 1.15), \n",
        "                       ncol=3, \n",
        "                       prop=font, \n",
        "                       handles=[neg, p, pos], \n",
        "                       loc='lower center', edgecolor='black')\n",
        "\n",
        "    plt.savefig(f\"drive/My Drive/csc699/plot_{context}_proportions.png\", transparent=True)\n",
        "    plt.show()"
      ],
      "execution_count": null,
      "outputs": []
    },
    {
      "cell_type": "code",
      "metadata": {
        "id": "zMJOn7t9P5os",
        "colab_type": "code",
        "colab": {}
      },
      "source": [
        "def plot_scores_int(score_list, label_list, context, ratio=False):\n",
        "    \"\"\"Plot intersectional ratios.\"\"\"\n",
        "    fig, ax = plt.subplots(figsize=(4.1, 4.5))\n",
        "    width = .25\n",
        "    x = np.arange(len(label_list)/2)\n",
        "    ld = {'neg': [], 'neu': [], 'pos': []}\n",
        "    for score_idx in range(len(score_list)):\n",
        "        scores = score_list[score_idx]\n",
        "        label = label_list[score_idx]\n",
        "        score_counts = Counter()\n",
        "        for s in scores:\n",
        "            if s >= 0.05:\n",
        "                score_counts['+'] += 1\n",
        "            elif s <= -0.05:\n",
        "                score_counts['-'] += 1\n",
        "            else:\n",
        "                score_counts['0'] += 1\n",
        "        if ratio:\n",
        "            if len(scores):\n",
        "                score_len = float(len(scores))\n",
        "                score_counts['+'] /= score_len\n",
        "                score_counts['-'] /= score_len\n",
        "                score_counts['0'] /= score_len\n",
        "        ld['neg'].append(score_counts['-'])\n",
        "        ld['neu'].append(score_counts['0'])\n",
        "        ld['pos'].append(score_counts['+'])\n",
        "    # Black/, Man/, Straight/\n",
        "    neg = ax.bar(x - width, [ld['neg'][0]], width/1.05, \n",
        "                 label='negative', color='black')\n",
        "    neu = ax.bar(x - width, [ld['neu'][0]], width/1.05, \n",
        "                        bottom=[ld['neg'][0]],\n",
        "                        label=\"neutral\", color='white', \n",
        "                        hatch='...', edgecolor='black')\n",
        "    pos = ax.bar(x - width, \n",
        "                        [ld['pos'][0]], \n",
        "                        width/1.05, \n",
        "                        bottom=[neu + neg for neu, neg in zip([ld['neu'][0]], \n",
        "                                                              [ld['neg'][0]])], \n",
        "                        label='positive', color='gray')\n",
        "    # /White, /Woman, /Gay\n",
        "\n",
        "    neg2 = ax.bar(x + width, [ld['neg'][1]], width/1.05, \n",
        "                 label='negative', color='black')\n",
        "    neu2 = ax.bar(x + width, [ld['neu'][1]], width/1.05, \n",
        "                        bottom=[ld['neg'][1]],\n",
        "                        label=\"neutral\", color='white', \n",
        "                        hatch='...', edgecolor='black')\n",
        "    pos2 = ax.bar(x + width, \n",
        "                        [ld['pos'][1]], width/1.05, \n",
        "                        bottom=[neu + neg for neu, neg in zip([ld['neu'][1]], \n",
        "                                                              [ld['neg'][1]])], \n",
        "                        label='positive', color='gray')\n",
        "    ax.set_yticks(np.arange(0.0, 1.1, 0.1))\n",
        "    ax.set_ylabel('Regard', family='serif')\n",
        "    ax.yaxis.set_ticks_position('both')\n",
        "    ax.tick_params(axis='y', direction='in')\n",
        "    x1 = np.arange(len(label_list)/2)\n",
        "    x2 = x1 - width\n",
        "    x3 = x1 + width\n",
        "    x4 = x2.tolist()\n",
        "    x4.extend(x3.tolist())\n",
        "    ax.set_xticks(np.array(x4))\n",
        "    xl = [label_list[0]]\n",
        "    xl2 = [label_list[1]]\n",
        "    xl.extend(xl2)\n",
        "    ax.set_xticklabels(family='serif', labels=xl, rotation=25, ha='right')\n",
        "    ax.set_xticks(x4)\n",
        "    ax.set_title(f\"{context.capitalize()}\\n\")\n",
        "    p = matplotlib.patches.Patch(facecolor='white', \n",
        "                                 edgecolor='black', \n",
        "                                 hatch=r'...', \n",
        "                                 label='neutral')\n",
        "    font = font_manager.FontProperties(family='serif')\n",
        "    ax.legend(bbox_to_anchor=(0.5, 1.15), \n",
        "                       ncol=3, \n",
        "                       prop=font, \n",
        "                       handles=[neg, p, pos], \n",
        "                       loc='lower center', edgecolor='black')\n",
        "\n",
        "    plt.savefig(f\"drive/My Drive/csc699/plot_{context}_int_proportions.png\", transparent=True)\n",
        "    plt.show()"
      ],
      "execution_count": null,
      "outputs": []
    },
    {
      "cell_type": "code",
      "metadata": {
        "id": "KyQpzwqBPulp",
        "colab_type": "code",
        "colab": {}
      },
      "source": [
        "BLACK = 'Black'\n",
        "WHITE = 'White'\n",
        "MAN = 'man'\n",
        "WOMAN = 'woman'\n",
        "GAY = 'gay'\n",
        "STRAIGHT = 'straight'\n",
        "BW = 'black woman'\n",
        "WW =  'white woman'\n",
        "\n",
        "KNOWN = 'was known for'\n",
        "DESCRIBED = 'was described as'\n",
        "REGARDED = 'was regarded as'\n",
        "THOUGHT = 'was thought of as'\n",
        "WELL_KNOWN = 'was well-known for'\n",
        "\n",
        "WORKED = 'worked as'\n",
        "JOB = 'had a job as'\n",
        "PART_TIME = 'had a part-time job as'\n",
        "EARNED = 'earned money by'\n",
        "STARTED_WORKING = 'started working as'\n",
        "\n",
        "def get_human_scores(context:str ='both', anopath:str = 'clear_annotated_no_int_no_ties.csv'):\n",
        "    \"\"\"Get human annotations to plot valence proportions.\"\"\"\n",
        "    \n",
        "    def respect_in_string(s):\n",
        "        \"\"\"Helper fn to check if respect context is in string s.\"\"\"\n",
        "        return KNOWN in s or DESCRIBED in s or REGARDED in s or THOUGHT in s or WELL_KNOWN in s\n",
        "\n",
        "\n",
        "    def respect_start_idx_in_string(s):\n",
        "        \"\"\"Helper fn to get leftmost respect context start idx in s.\"\"\"\n",
        "        start_idx = 9999\n",
        "        context_list = [KNOWN, DESCRIBED, REGARDED, THOUGHT, WELL_KNOWN]\n",
        "        for c in context_list:\n",
        "            if c in s:\n",
        "                start_idx = min(start_idx, s.index(c))\n",
        "        return start_idx\n",
        "\n",
        "\n",
        "    def occupation_in_string(s):\n",
        "        \"\"\"Helper fn to check if occupation context is in string s.\"\"\"\n",
        "        return WORKED in s or JOB in s or PART_TIME in s or EARNED in s or STARTED_WORKING in s\n",
        "\n",
        "\n",
        "    def occupation_start_idx_in_string(s):\n",
        "        \"\"\"Helper fn to get leftmost occupation context start idx in s.\"\"\"\n",
        "        start_idx = 9999\n",
        "        context_list = [WORKED, JOB, PART_TIME, EARNED, STARTED_WORKING]\n",
        "        for c in context_list:\n",
        "            if c in s:\n",
        "                start_idx = min(start_idx, s.index(c))\n",
        "        return start_idx\n",
        "\n",
        "    clear_df = pd.read_csv(f\"drive/My Drive/csc699/{anopath}\",\n",
        "                        sep=\"\\t\", \n",
        "                        header=None)\n",
        "    \n",
        "    #oscores = OrderedDict({BLACK: [], WHITE: [], MAN: [], WOMAN: [], STRAIGHT: [], GAY: []})\n",
        "    oscores = OrderedDict({BW: [], WW: []})\n",
        "    for score, sample in clear_df.values.tolist():\n",
        "        val = score\n",
        "        l = sample\n",
        "        occ_idx = occupation_start_idx_in_string(l)\n",
        "        respect_idx = respect_start_idx_in_string(l)\n",
        "        if context == 'occupation':\n",
        "            if occupation_in_string(l) and occ_idx < respect_idx:\n",
        "                \"\"\"\n",
        "                if l.startswith('The Black person'):\n",
        "                    oscores[BLACK].append(val)\n",
        "                elif l.startswith('The White person'):\n",
        "                    oscores[WHITE].append(val)\n",
        "                elif l.startswith('The man'):\n",
        "                    oscores[MAN].append(val)\n",
        "                elif l.startswith('The woman'):\n",
        "                    oscores[WOMAN].append(val)\n",
        "                elif l.startswith('The straight person'):\n",
        "                    oscores[STRAIGHT].append(val)\n",
        "                elif l.startswith('The gay person'):\n",
        "                    oscores[GAY].append(val)\"\"\"\n",
        "                if l.startswith('The black woman'):\n",
        "                    oscores[BW].append(val)\n",
        "                elif l.startswith('The white woman'):\n",
        "                    oscores[WW].append(val)\n",
        "                else:\n",
        "                    if l.startswith('The black man') or l.startswith('The straight black man'):\n",
        "                        pass\n",
        "                    else:\n",
        "                        raise NotImplementedError('Unidentified demographic: %s' % l)\n",
        "        elif context == 'respect':\n",
        "            if respect_in_string(l) and respect_idx < occ_idx:\n",
        "                \"\"\"if l.startswith('The Black person'):\n",
        "                    oscores[BLACK].append(val)\n",
        "                elif l.startswith('The White person'):\n",
        "                    oscores[WHITE].append(val)\n",
        "                elif l.startswith('The man'):\n",
        "                    oscores[MAN].append(val)\n",
        "                elif l.startswith('The woman'):\n",
        "                    oscores[WOMAN].append(val)\n",
        "                elif l.startswith('The straight person'):\n",
        "                    oscores[STRAIGHT].append(val)\n",
        "                elif l.startswith('The gay person'):\n",
        "                    oscores[GAY].append(val)\"\"\"\n",
        "                if l.startswith('The black woman'):\n",
        "                    oscores[BW].append(val)\n",
        "                elif l.startswith('The white woman'):\n",
        "                    oscores[WW].append(val)\n",
        "                else:\n",
        "                    if l.startswith('The black man') or l.startswith('The straight black man'):\n",
        "                        pass\n",
        "                    else:\n",
        "                        raise NotImplementedError('Unidentified demographic: %s' % l)\n",
        "        elif context == 'both':\n",
        "            \"\"\"if l.startswith('The Black person'):\n",
        "                oscores[BLACK].append(val)\n",
        "            elif l.startswith('The White person'):\n",
        "                oscores[WHITE].append(val)\n",
        "            elif l.startswith('The man'):\n",
        "                oscores[MAN].append(val)\n",
        "            elif l.startswith('The woman'):\n",
        "                oscores[WOMAN].append(val)\n",
        "            elif l.startswith('The straight person'):\n",
        "                oscores[STRAIGHT].append(val)\n",
        "            elif l.startswith('The gay person'):\n",
        "                oscores[GAY].append(val)\"\"\"\n",
        "            if l.startswith('The black woman'):\n",
        "                oscores[BW].append(val)\n",
        "            elif l.startswith('The white woman'):\n",
        "                oscores[WW].append(val)\n",
        "            else:\n",
        "                if l.startswith('The black man') or l.startswith('The straight black man'):\n",
        "                    pass\n",
        "                else:\n",
        "                    raise NotImplementedError('Unidentified demographic: %s' % l)\n",
        "                    \n",
        "    return list(oscores.values())"
      ],
      "execution_count": null,
      "outputs": []
    },
    {
      "cell_type": "code",
      "metadata": {
        "id": "9CC0RwvWNwXt",
        "colab_type": "code",
        "colab": {}
      },
      "source": [
        "context = 'occupation'\n",
        "\n",
        "plot_scores_int(label_list=[BW, WW], # [BLACK, WHITE, MAN, WOMAN, STRAIGHT, GAY]\n",
        "            score_list=get_human_scores(context, 'clear_annotated_int_no_ties.csv'), \n",
        "            context=context,\n",
        "            ratio=True)"
      ],
      "execution_count": null,
      "outputs": []
    },
    {
      "cell_type": "markdown",
      "metadata": {
        "id": "bkIp8szexGD6",
        "colab_type": "text"
      },
      "source": [
        "# Appendix"
      ]
    },
    {
      "cell_type": "markdown",
      "metadata": {
        "id": "_gjxC7qvd2tK",
        "colab_type": "text"
      },
      "source": [
        "## A. Create analysis files from my own generated samples:"
      ]
    },
    {
      "cell_type": "markdown",
      "metadata": {
        "id": "Q0oOPisIOAdp",
        "colab_type": "text"
      },
      "source": [
        "#### Setup:"
      ]
    },
    {
      "cell_type": "code",
      "metadata": {
        "id": "vxIQYdh0xgKS",
        "colab_type": "code",
        "colab": {}
      },
      "source": [
        "import pandas as pd"
      ],
      "execution_count": null,
      "outputs": []
    },
    {
      "cell_type": "code",
      "metadata": {
        "id": "rOFy0qnyNGUK",
        "colab_type": "code",
        "colab": {}
      },
      "source": [
        "indices = [\"Black\", \"White\", \"Man\", \"Woman\", \"Gay\", \"Straight\"] # [\"Black woman\", ...]\n",
        "demos = pd.read_csv(\"../../../drive/My Drive/csc699/demographics.txt\", # intersectional.txt\n",
        "                    header=None).values.tolist()"
      ],
      "execution_count": null,
      "outputs": []
    },
    {
      "cell_type": "code",
      "metadata": {
        "id": "Ll5ijvweiCpu",
        "colab_type": "code",
        "colab": {}
      },
      "source": [
        "sdf = pd.read_csv(\"../../../drive/My Drive/csc699/samples_gpt2.csv\")"
      ],
      "execution_count": null,
      "outputs": []
    },
    {
      "cell_type": "code",
      "metadata": {
        "id": "XT80O6Hwoou8",
        "colab_type": "code",
        "colab": {}
      },
      "source": [
        "def addRO(df: pd.DataFrame, \n",
        "          name: str, \n",
        "          is_write: bool, \n",
        "          indices: list) -> pd.DataFrame:\n",
        "    \"\"\"Concatenate bias contexts to Respect/Occupation column.\"\"\"\n",
        "    cdf = pd.DataFrame()\n",
        "    for i in range(len(indices)):\n",
        "        lst = eval(df.iloc[:, i].values.tolist()[0])\n",
        "        contexts = dict([(k, []) for k in [\"Respect\", \"Occupation\"]])\n",
        "        for ix, e in enumerate(lst):\n",
        "            # They are regularly spaced.\n",
        "            if ix % 5 == eval(str(ix)[-1]):\n",
        "                contexts['Respect'].append(e)\n",
        "            else:\n",
        "                contexts['Occupation'].append(e)\n",
        "        cdf = pd.concat([cdf, pd.DataFrame.from_records([contexts], index=[indices[i]])])\n",
        "        # Group sentences by prompts.\n",
        "        cdf[\"RO\"] = cdf.Respect.apply(sorted) + cdf.Occupation.apply(sorted)\n",
        "        if is_write:\n",
        "            cdf.to_csv(f\"../../../drive/My Drive/csc699/{name}.csv\", \n",
        "                       index_label=\"Demographic\")\n",
        "    return cdf"
      ],
      "execution_count": null,
      "outputs": []
    },
    {
      "cell_type": "markdown",
      "metadata": {
        "id": "6FfEKbt8NxID",
        "colab_type": "text"
      },
      "source": [
        "#### Add Respect+Occupation column."
      ]
    },
    {
      "cell_type": "code",
      "metadata": {
        "id": "_J4XwiQ9oALy",
        "colab_type": "code",
        "colab": {}
      },
      "source": [
        "cdf = addRO(df=sdf, name=\"my_lm1b_samples\", is_write=False, indices=indices)"
      ],
      "execution_count": null,
      "outputs": []
    },
    {
      "cell_type": "markdown",
      "metadata": {
        "id": "Zalsb-LRN3fq",
        "colab_type": "text"
      },
      "source": [
        "Create masked demographic (XYZ) file."
      ]
    },
    {
      "cell_type": "code",
      "metadata": {
        "id": "qQYD79npiLtm",
        "colab_type": "code",
        "colab": {}
      },
      "source": [
        "with open(\"data/generated_samples/my_lm1b_samples.tsv\", mode=\"r\") as infile:\n",
        "    lines = infile.read().splitlines()\n",
        "    with open(\"data/generated_samples/my_lm1b_samples.tsv.XYZ\", mode=\"w\") as outfile:\n",
        "        for line in lines:\n",
        "            for d in demos:\n",
        "                dx = d[0].lower().capitalize()\n",
        "                if dx in line:\n",
        "                    line = line.replace(dx, \"XYZ\")\n",
        "                elif d[0] in line:\n",
        "                    line = line.replace(d[0], \"XYZ\")\n",
        "            outfile.write(line + \"\\n\")"
      ],
      "execution_count": null,
      "outputs": []
    },
    {
      "cell_type": "markdown",
      "metadata": {
        "id": "IchJcPfvN8Gh",
        "colab_type": "text"
      },
      "source": [
        "Test XYZ file."
      ]
    },
    {
      "cell_type": "code",
      "metadata": {
        "id": "F0VlUJdzlmvF",
        "colab_type": "code",
        "colab": {}
      },
      "source": [
        "with open(\"data/generated_samples/my_lm1b_samples.tsv.XYZ\", mode=\"r\") as infile:\n",
        "    lines = infile.read().splitlines()\n",
        "    print(len(lines))\n",
        "    for line in lines:\n",
        "        print(line)"
      ],
      "execution_count": null,
      "outputs": []
    },
    {
      "cell_type": "markdown",
      "metadata": {
        "id": "MZ93E5eLGUyZ",
        "colab_type": "text"
      },
      "source": [
        "## B. AMT data"
      ]
    },
    {
      "cell_type": "code",
      "metadata": {
        "id": "mPjTYAps7twx",
        "colab_type": "code",
        "colab": {}
      },
      "source": [
        "import pandas as pd"
      ],
      "execution_count": null,
      "outputs": []
    },
    {
      "cell_type": "code",
      "metadata": {
        "id": "Dn9ITsr4YHQd",
        "colab_type": "code",
        "colab": {}
      },
      "source": [
        "def get_masked_clear_df(turk: str = \"my_turk_majority_no_ties.csv\", \n",
        "                        clear: str = \"sampledv2.csv\"):\n",
        "    \"\"\"Load XYZ, unmasked Turk data.\"\"\"\n",
        "    turk_df = pd.read_csv(f\"drive/My Drive/csc699/{turk}\")\n",
        "    turk_df = turk_df.rename(columns={'Sample': 'Masked'})\n",
        "    clear_df = pd.read_csv(f\"drive/My Drive/csc699/{clear}\") #No intersectional.\n",
        "    clear_df = pd.DataFrame({\"Sample\": [s[:-2].rstrip().replace(\"\\\"\", \"'\")\n",
        "                                        for i in clear_df.loc[0, :] \n",
        "                                        for s in list(eval(i))]})\n",
        "    return turk_df, clear_df\n",
        "\n",
        "def get_mask_clear_lst(turk: str = \"my_turk_majority_no_ties.csv\", \n",
        "                       clear: str = \"sampledv2.csv\"):\n",
        "    \"\"\"\n",
        "    Create lists for conversion \n",
        "    and combination into dataframe.\n",
        "    \"\"\"\n",
        "    turk_df, clear_df = get_masked_clear_df(turk, clear)\n",
        "    masklst = [(sample, sample[4:-1], label) \n",
        "                for sample, label in turk_df.values.tolist()]\n",
        "    clearlst = clear_df.Sample.values.tolist()\n",
        "    cleared_samples = []\n",
        "    masked_samples = []\n",
        "    for clear_sample in clearlst:\n",
        "        for xyz_sample, masked_sample, label in masklst:\n",
        "            if masked_sample in clear_sample:\n",
        "                cleared_samples.append((label, clear_sample))\n",
        "                masked_samples.append((label, xyz_sample))\n",
        "                break\n",
        "    return cleared_samples, masked_samples\n",
        "\n",
        "def get_combo_df(turk: str = \"my_turk_majority_no_ties.csv\", \n",
        "                clear: str = \"sampledv2.csv\"):\n",
        "    \"\"\"\n",
        "    Get combined dataframe: Sample, Regard, Masked Sample.\n",
        "    \"\"\"\n",
        "    cleared_samples, masked_samples = get_mask_clear_lst(turk, clear)\n",
        "    cleared_df = pd.DataFrame(cleared_samples, columns=['Regard', 'Sample'])\n",
        "    masked_df = pd.DataFrame(masked_samples, columns=['Regard', 'Masked'])\n",
        "    cleared_masked = pd.concat([cleared_df, \n",
        "                                masked_df.rename(columns={'Regard': 'Regard_Masked'})], axis=1)\n",
        "    return cleared_df, masked_df, cleared_masked"
      ],
      "execution_count": null,
      "outputs": []
    },
    {
      "cell_type": "markdown",
      "metadata": {
        "id": "1RfuFUAagmJY",
        "colab_type": "text"
      },
      "source": [
        "Write annotated data to clear, masked files."
      ]
    },
    {
      "cell_type": "code",
      "metadata": {
        "id": "DMAWeg08awTd",
        "colab_type": "code",
        "colab": {}
      },
      "source": [
        "cleared_df, masked_df, cleared_masked = get_combo_df()"
      ],
      "execution_count": null,
      "outputs": []
    },
    {
      "cell_type": "code",
      "metadata": {
        "id": "UnllBTN_YCCs",
        "colab_type": "code",
        "colab": {}
      },
      "source": [
        "cleared_df.to_csv(\"drive/My Drive/csc699/clear_annotated_no_int_no_ties.csv\", sep=\"\\t\", header=False, index=False)\n",
        "masked_df.to_csv(\"drive/My Drive/csc699/clear_annotated_no_int_no_ties.XYZ.csv\", sep=\"\\t\", header=False, index=False)"
      ],
      "execution_count": null,
      "outputs": []
    },
    {
      "cell_type": "markdown",
      "metadata": {
        "id": "ChldOLo4gsRY",
        "colab_type": "text"
      },
      "source": [
        "Write annotated data to clear, masked training files."
      ]
    },
    {
      "cell_type": "code",
      "metadata": {
        "id": "ohzJcTGjLOfx",
        "colab_type": "code",
        "colab": {}
      },
      "source": [
        "def get_training_sets(turk: str = \"my_turk_majority_no_ties.csv\", \n",
        "                      clear: str = \"sampledv2.csv\"):\n",
        "    \"\"\"Get train, dev, test sets from AMT data.\"\"\"\n",
        "    _, _, cleared_masked = get_combo_df(turk, clear)\n",
        "    \n",
        "    cleared_masked_copy = cleared_masked.copy()\n",
        "    train = cleared_masked_copy.sample(frac=0.7, random_state=42)\n",
        "\n",
        "    held = cleared_masked_copy.drop(train.index)\n",
        "    held_copy = held.copy()\n",
        "\n",
        "    dev = held_copy.sample(frac=0.67, random_state=42)\n",
        "    test = held_copy.drop(dev.index)\n",
        "\n",
        "    train_clear = train.loc[:, :'Sample']\n",
        "    train_masked= train.loc[:, 'Regard_Masked':]\n",
        "\n",
        "    dev_clear = dev.loc[:, :'Sample']\n",
        "    dev_masked = dev.loc[:, 'Regard_Masked':]\n",
        "\n",
        "    test_clear = test.loc[:, :'Sample']\n",
        "    test_masked = test.loc[:, 'Regard_Masked':]\n",
        "\n",
        "    clear_sets = [train_clear, dev_clear, test_clear]\n",
        "    masked_sets = [train_masked, dev_masked, test_masked]\n",
        "    return clear_sets, masked_sets\n",
        "    \n",
        "def write_training_data(intrs: str = \"\", \n",
        "                        turk: str = \"my_turk_majority_no_ties.csv\", \n",
        "                        clear: str = \"sampledv2.csv\"):\n",
        "    \"\"\"Write clear and masked training data to files.\"\"\"\n",
        "\n",
        "    clear_sets, masked_sets = get_training_sets(turk, clear)\n",
        "    train_clear, dev_clear, test_clear = clear_sets\n",
        "    train_masked, dev_masked, test_masked = masked_sets\n",
        "    print(intrs, turk, clear)\n",
        "    train_clear.to_csv(f\"drive/My Drive/csc699/data/regard/{intrs}train_clear.tsv\", sep=\"\\t\", header=False, index=False)\n",
        "    train_masked.to_csv(f\"drive/My Drive/csc699/data/regard/{intrs}train.tsv\", sep=\"\\t\", header=False, index=False)\n",
        "\n",
        "    dev_clear.to_csv(f\"drive/My Drive/csc699/data/regard/{intrs}dev_clear.tsv\", sep=\"\\t\", header=False, index=False)\n",
        "    dev_masked.to_csv(f\"drive/My Drive/csc699/data/regard/{intrs}dev.tsv\", sep=\"\\t\", header=False, index=False)\n",
        "\n",
        "    test_clear.to_csv(f\"drive/My Drive/csc699/data/regard/{intrs}test_clear.tsv\", sep=\"\\t\", header=False, index=False)\n",
        "    test_masked.to_csv(f\"drive/My Drive/csc699/data/regard/{intrs}test.tsv\", sep=\"\\t\", header=False, index=False)"
      ],
      "execution_count": null,
      "outputs": []
    },
    {
      "cell_type": "code",
      "metadata": {
        "id": "gjZExkSNgf7x",
        "colab_type": "code",
        "colab": {}
      },
      "source": [
        "\"\"\"\n",
        "write_training_data(intrs = \"int_\", # intersectional \n",
        "                    turk = \"my_turk_majority_int_no_ties.csv\", \n",
        "                    clear = \"sampledv2_int.csv\")\n",
        "\"\"\"\n",
        "write_training_data()"
      ],
      "execution_count": null,
      "outputs": []
    },
    {
      "cell_type": "markdown",
      "metadata": {
        "id": "JFq9fpPWgwnv",
        "colab_type": "text"
      },
      "source": [
        "Read training data."
      ]
    },
    {
      "cell_type": "code",
      "metadata": {
        "id": "SQvbAuKFP7iJ",
        "colab_type": "code",
        "colab": {}
      },
      "source": [
        "def load_classifier_data(folder: str = \"nlg-bias\", \n",
        "                         typ: str = \"regard\", \n",
        "                         intrs: str = \"\"):\n",
        "    train_df = pd.read_csv(f\"drive/My Drive/{folder}/data/{typ}/{intrs}train.tsv\", \n",
        "                       sep=\"\\t\", \n",
        "                       header=None)\n",
        "    dev_df = pd.read_csv(f\"drive/My Drive/{folder}/data/{typ}/{intrs}dev.tsv\", \n",
        "                        sep=\"\\t\", \n",
        "                        header=None)\n",
        "    test_df = pd.read_csv(f\"drive/My Drive/{folder}/data/{typ}/{intrs}test.tsv\", \n",
        "                        sep=\"\\t\", \n",
        "                        header=None)\n",
        "    train = [(i[1], i[0]) for i in train_df.values]\n",
        "    dev = [(i[1], i[0]) for i in dev_df.values]\n",
        "    test = [(i[1], i[0]) for i in test_df.values]\n",
        "    return [train_df, dev_df, test_df, train, dev, test]"
      ],
      "execution_count": null,
      "outputs": []
    },
    {
      "cell_type": "code",
      "metadata": {
        "id": "8F55z1nBlP6D",
        "colab_type": "code",
        "colab": {}
      },
      "source": [
        "def show_regard_props(df):\n",
        "    print('# Positive: ', df.loc[:, 0][df.loc[:, 0] > 0].count())\n",
        "    print('# Neutral: ', df.loc[:, 0][df.loc[:, 0] == 0].count())\n",
        "    print('# Negative: ', df.loc[:, 0][df.loc[:, 0] < 0].count())"
      ],
      "execution_count": null,
      "outputs": []
    },
    {
      "cell_type": "code",
      "metadata": {
        "id": "AtHmTUoY75ER",
        "colab_type": "code",
        "colab": {}
      },
      "source": [
        "train_df, dev_df, test_df, train, dev, test = load_classifier_data(\"csc699\", \n",
        "                                                                   #intrs = \"int_\",\n",
        "                                                                   typ=\"regard\")"
      ],
      "execution_count": null,
      "outputs": []
    },
    {
      "cell_type": "code",
      "metadata": {
        "id": "ByhQNAYig1kZ",
        "colab_type": "code",
        "colab": {}
      },
      "source": [
        "print(\"Train:\", train_df.shape)\n",
        "show_regard_props(train_df)\n",
        "print(\"Dev\", dev_df.shape)\n",
        "show_regard_props(dev_df)\n",
        "print(\"Test\", test_df.shape)\n",
        "show_regard_props(test_df)"
      ],
      "execution_count": null,
      "outputs": []
    }
  ]
}